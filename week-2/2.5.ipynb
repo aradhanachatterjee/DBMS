{
 "cells": [
  {
   "cell_type": "code",
   "execution_count": 48,
   "metadata": {},
   "outputs": [],
   "source": [
    "import psycopg2\n",
    "\n",
    "# Function to read database credentials from a file\n",
    "def read_db_creds(file_path):\n",
    "    creds = {}\n",
    "    with open(file_path, 'r') as f:\n",
    "        for line in f:\n",
    "            key, value = line.strip().split('=')\n",
    "            creds[key] = value\n",
    "    return creds\n",
    "\n",
    "# Read credentials from dbcreds.txt\n",
    "\n",
    "creds = read_db_creds('dbcreds.txt')\n",
    "\n",
    "# Extract the credentials\n",
    "HOST = creds['host']\n",
    "USER = creds['user']\n",
    "PASSWORD = creds['password']\n",
    "DATABASE = 'stuff'\n",
    "PORT = int(creds['port'])\n",
    "\n",
    "# Establish the connection\n",
    "conn = psycopg2.connect(\n",
    "    host=HOST,\n",
    "    user=USER,\n",
    "    password=PASSWORD,\n",
    "    dbname=DATABASE,\n",
    "    port=PORT\n",
    ")\n",
    "\n",
    "# Create a cursor object\n",
    "cur = conn.cursor()"
   ]
  },
  {
   "cell_type": "code",
   "execution_count": 43,
   "metadata": {},
   "outputs": [
    {
     "name": "stdout",
     "output_type": "stream",
     "text": [
      "('E001', 'Arun', 50000, 'D001')\n",
      "('E002', 'William', 45000, 'D002')\n",
      "('E003', 'Ramesh', 45000, 'D004')\n",
      "('E004', 'Rekha', 35000, 'D003')\n",
      "('E005', 'Syed', 30000, 'D002')\n",
      "('E006', 'Gurpreet', 80000, 'D003')\n",
      "('E007', 'Susan', 85000, 'D004')\n"
     ]
    }
   ],
   "source": [
    "# Execute a SQL query\n",
    "cur.execute(\"SELECT * FROM employee;\")\n",
    "\n",
    "# Fetch the results\n",
    "rows = cur.fetchall()\n",
    "\n",
    "# Print the results\n",
    "for row in rows:\n",
    "    print(row)"
   ]
  },
  {
   "cell_type": "code",
   "execution_count": 3,
   "metadata": {},
   "outputs": [
    {
     "name": "stdout",
     "output_type": "stream",
     "text": [
      "('D001', 'Accounts', 'B1')\n",
      "('D002', 'Marketing', 'B2')\n",
      "('D003', 'Sales', 'B3')\n",
      "('D004', 'Production', 'B1')\n"
     ]
    }
   ],
   "source": [
    "# Execute a SQL query\n",
    "cur.execute(\"SELECT * FROM department;\")\n",
    "\n",
    "# Fetch the results\n",
    "rows = cur.fetchall()\n",
    "\n",
    "# Print the results\n",
    "for row in rows:\n",
    "    print(row)"
   ]
  },
  {
   "cell_type": "code",
   "execution_count": 4,
   "metadata": {},
   "outputs": [
    {
     "name": "stdout",
     "output_type": "stream",
     "text": [
      "('E006',)\n",
      "('E008',)\n"
     ]
    }
   ],
   "source": [
    "# Execute a SQL query\n",
    "cur.execute(\"SELECT eid FROM employee WHERE deptid = 'D003' AND salary > 35000;\")\n",
    "\n",
    "# Fetch the results\n",
    "rows = cur.fetchall()\n",
    "\n",
    "# Print the results\n",
    "for row in rows:\n",
    "    print(row)"
   ]
  },
  {
   "cell_type": "code",
   "execution_count": 5,
   "metadata": {},
   "outputs": [],
   "source": [
    "# Execute a SQL query\n",
    "cur.execute(\"SELECT eid FROM employee WHERE deptid = 'D003' AND salary > 35000 EXCEPT SELECT e.eid FROM employee e, department d WHERE e.deptid=d.deptid AND d.building='B3';\")\n",
    "\n",
    "# Fetch the results\n",
    "rows = cur.fetchall()\n",
    "\n",
    "# Print the results\n",
    "for row in rows:\n",
    "    print(row)"
   ]
  },
  {
   "cell_type": "code",
   "execution_count": 6,
   "metadata": {},
   "outputs": [
    {
     "name": "stdout",
     "output_type": "stream",
     "text": [
      "('E002',)\n",
      "('E011',)\n",
      "('E005',)\n"
     ]
    }
   ],
   "source": [
    "# Execute a SQL query\n",
    "cur.execute(\"SELECT e.eid FROM employee e, department d WHERE e.deptid=d.deptid AND d.building in ('B2') UNION ALL SELECT eid FROM Employee WHERE deptid = 'D002' EXCEPT ALL SELECT eid FROM Employee WHERE deptid = 'D002';\")\n",
    "\n",
    "# Fetch the results\n",
    "rows = cur.fetchall()\n",
    "\n",
    "# Print the results\n",
    "for row in rows:\n",
    "    print(row)"
   ]
  },
  {
   "cell_type": "code",
   "execution_count": 7,
   "metadata": {},
   "outputs": [],
   "source": [
    "#  rename employee table to employee_alt\n",
    "cur.execute(\"ALTER TABLE employee RENAME TO employee_alt;\")\n",
    "conn.commit()"
   ]
  },
  {
   "cell_type": "code",
   "execution_count": 27,
   "metadata": {},
   "outputs": [
    {
     "name": "stdout",
     "output_type": "stream",
     "text": [
      "('E001', 'Arun', 50000, 'D001')\n",
      "('E002', 'William', 45000, 'D002')\n",
      "('E003', 'Ramesh', 45000, 'D004')\n",
      "('E004', 'Rekha', 35000, 'D003')\n",
      "('E005', 'Syed', 30000, 'D002')\n",
      "('E006', 'Gurpreet', 80000, 'D003')\n",
      "('E007', 'Susan', 85000, 'D004')\n",
      "('E008', 'N K N', 60000, 'D003')\n",
      "('E009', 'A Ray', 55000, 'D001')\n",
      "('E010', 'Meghna S', 70000, 'D001')\n",
      "('E011', 'R R Choudhary', 40000, 'D002')\n",
      "('E012', 'A', 90000, 'D004')\n"
     ]
    }
   ],
   "source": [
    "cur.execute(\"SELECT * FROM employee_alt;\")\n",
    "rows = cur.fetchall()\n",
    "for row in rows:\n",
    "    print(row)"
   ]
  },
  {
   "cell_type": "code",
   "execution_count": 28,
   "metadata": {},
   "outputs": [],
   "source": [
    "#  create a table with first 7 rows of employee_alt table\n",
    "cur.execute(\"CREATE TABLE employee AS SELECT * FROM employee_alt LIMIT 7;\")\n",
    "conn.commit()\n"
   ]
  },
  {
   "cell_type": "code",
   "execution_count": 29,
   "metadata": {},
   "outputs": [
    {
     "name": "stdout",
     "output_type": "stream",
     "text": [
      "('E001', 'Arun', 50000, 'D001')\n",
      "('E002', 'William', 45000, 'D002')\n",
      "('E003', 'Ramesh', 45000, 'D004')\n",
      "('E004', 'Rekha', 35000, 'D003')\n",
      "('E005', 'Syed', 30000, 'D002')\n",
      "('E006', 'Gurpreet', 80000, 'D003')\n",
      "('E007', 'Susan', 85000, 'D004')\n"
     ]
    }
   ],
   "source": [
    "cur.execute(\"SELECT * FROM employee;\")\n",
    "rows = cur.fetchall()\n",
    "for row in rows:\n",
    "    print(row)"
   ]
  },
  {
   "cell_type": "code",
   "execution_count": 10,
   "metadata": {},
   "outputs": [
    {
     "name": "stdout",
     "output_type": "stream",
     "text": [
      "('E002',)\n",
      "('E005',)\n"
     ]
    }
   ],
   "source": [
    "# Execute a SQL query\n",
    "cur.execute(\"SELECT e.eid FROM employee e, department d WHERE e.deptid=d.deptid AND d.building in ('B2') UNION ALL SELECT eid FROM Employee WHERE deptid = 'D002' EXCEPT ALL SELECT eid FROM Employee WHERE deptid = 'D002';\")\n",
    "\n",
    "# Fetch the results\n",
    "rows = cur.fetchall()\n",
    "\n",
    "# Print the results\n",
    "for row in rows:\n",
    "    print(row)"
   ]
  },
  {
   "cell_type": "code",
   "execution_count": 11,
   "metadata": {},
   "outputs": [
    {
     "name": "stdout",
     "output_type": "stream",
     "text": [
      "(50000, 'D001')\n",
      "(45000, 'D004')\n",
      "(35000, 'D003')\n"
     ]
    }
   ],
   "source": [
    "cur.execute(\"SELECT MIN(salary), deptid FROM employee GROUP BY deptid INTERSECT SELECT e1.salary,e1.deptid FROM Employee e1, Employee e2 WHERE e1.salary > e2.salary;\")\n",
    "rows = cur.fetchall()\n",
    "for row in rows:\n",
    "    print(row)"
   ]
  },
  {
   "cell_type": "code",
   "execution_count": 12,
   "metadata": {},
   "outputs": [
    {
     "name": "stdout",
     "output_type": "stream",
     "text": [
      "('E001',)\n",
      "('E001',)\n",
      "('E002',)\n",
      "('E002',)\n",
      "('E003',)\n",
      "('E003',)\n",
      "('E004',)\n",
      "('E004',)\n",
      "('E005',)\n",
      "('E005',)\n",
      "('E006',)\n",
      "('E006',)\n",
      "('E007',)\n",
      "('E007',)\n"
     ]
    }
   ],
   "source": [
    "cur.execute(\"SELECT eid FROM employee, department EXCEPT ALL select eid from employee EXCEPT ALL select eid from employee;\")\n",
    "rows = cur.fetchall()\n",
    "for row in rows:\n",
    "    print(row)"
   ]
  },
  {
   "cell_type": "code",
   "execution_count": 13,
   "metadata": {},
   "outputs": [
    {
     "data": {
      "text/plain": [
       "14"
      ]
     },
     "execution_count": 13,
     "metadata": {},
     "output_type": "execute_result"
    }
   ],
   "source": [
    "len(rows)"
   ]
  },
  {
   "cell_type": "code",
   "execution_count": 36,
   "metadata": {},
   "outputs": [
    {
     "name": "stdout",
     "output_type": "stream",
     "text": [
      "['E001', 'E002', 'E003', 'E004', 'E005', 'E006', 'E007']\n",
      "7\n"
     ]
    }
   ],
   "source": [
    "cur.execute(\"SELECT eid FROM employee;\")\n",
    "eids = []\n",
    "rows = cur.fetchall()\n",
    "for row in rows:\n",
    "    eids.append(row[0])\n",
    "print(eids)\n",
    "print(len(eids))"
   ]
  },
  {
   "cell_type": "code",
   "execution_count": 34,
   "metadata": {},
   "outputs": [
    {
     "name": "stdout",
     "output_type": "stream",
     "text": [
      "['E001', 'E002', 'E003', 'E004', 'E005', 'E006', 'E007', 'E001', 'E002', 'E003', 'E004', 'E005', 'E006', 'E007', 'E001', 'E002', 'E003', 'E004', 'E005', 'E006', 'E007', 'E001', 'E002', 'E003', 'E004', 'E005', 'E006', 'E007']\n",
      "28\n"
     ]
    }
   ],
   "source": [
    "cur.execute(\"SELECT eid FROM employee, department;\")\n",
    "rows = cur.fetchall()\n",
    "eids = []\n",
    "for row in rows:\n",
    "    eids.append(row[0])\n",
    "print(eids)\n",
    "print(len(eids))"
   ]
  },
  {
   "cell_type": "code",
   "execution_count": 35,
   "metadata": {},
   "outputs": [
    {
     "name": "stdout",
     "output_type": "stream",
     "text": [
      "['E007', 'E007', 'E007', 'E002', 'E002', 'E002', 'E004', 'E004', 'E004', 'E001', 'E001', 'E001', 'E006', 'E006', 'E006', 'E005', 'E005', 'E005', 'E003', 'E003', 'E003']\n",
      "21\n"
     ]
    }
   ],
   "source": [
    "cur.execute(\"SELECT eid FROM employee, department EXCEPT ALL select eid from employee;\")\n",
    "rows = cur.fetchall()\n",
    "eids = []\n",
    "for row in rows:\n",
    "    eids.append(row[0])\n",
    "print(eids)\n",
    "print(len(eids))"
   ]
  },
  {
   "cell_type": "code",
   "execution_count": 37,
   "metadata": {},
   "outputs": [
    {
     "name": "stdout",
     "output_type": "stream",
     "text": [
      "['E001', 'E001', 'E002', 'E002', 'E003', 'E003', 'E004', 'E004', 'E005', 'E005', 'E006', 'E006', 'E007', 'E007']\n",
      "14\n"
     ]
    }
   ],
   "source": [
    "cur.execute(\"SELECT eid FROM employee, department EXCEPT ALL select eid from employee EXCEPT ALL select eid from employee;\")\n",
    "rows = cur.fetchall()\n",
    "eids = []\n",
    "for row in rows:\n",
    "    eids.append(row[0])\n",
    "print(eids)\n",
    "print(len(eids))"
   ]
  },
  {
   "cell_type": "code",
   "execution_count": 38,
   "metadata": {},
   "outputs": [
    {
     "name": "stdout",
     "output_type": "stream",
     "text": [
      "(80000,)\n"
     ]
    }
   ],
   "source": [
    "cur.execute(\"SELECT SUM(salary) FROM employee WHERE salary > 35000 GROUP BY deptid HAVING SUM(salary)>50000 AND SUM(salary)<100000;\")\n",
    "rows = cur.fetchall()\n",
    "for row in rows:\n",
    "    print(row)"
   ]
  },
  {
   "cell_type": "code",
   "execution_count": 39,
   "metadata": {},
   "outputs": [
    {
     "name": "stdout",
     "output_type": "stream",
     "text": [
      "(85000,)\n",
      "(80000,)\n",
      "(50000,)\n"
     ]
    }
   ],
   "source": [
    "cur.execute(\"SELECT SUM(salary) FROM employee WHERE salary > 45000 GROUP BY deptid;\")\n",
    "rows = cur.fetchall()\n",
    "for row in rows:\n",
    "    print(row)"
   ]
  },
  {
   "cell_type": "code",
   "execution_count": 49,
   "metadata": {},
   "outputs": [],
   "source": [
    "# Close the cursor and the connection\n",
    "cur.close()\n",
    "conn.close()"
   ]
  },
  {
   "cell_type": "code",
   "execution_count": null,
   "metadata": {},
   "outputs": [],
   "source": []
  }
 ],
 "metadata": {
  "kernelspec": {
   "display_name": "Python 3",
   "language": "python",
   "name": "python3"
  },
  "language_info": {
   "codemirror_mode": {
    "name": "ipython",
    "version": 3
   },
   "file_extension": ".py",
   "mimetype": "text/x-python",
   "name": "python",
   "nbconvert_exporter": "python",
   "pygments_lexer": "ipython3",
   "version": "3.12.3"
  }
 },
 "nbformat": 4,
 "nbformat_minor": 2
}
