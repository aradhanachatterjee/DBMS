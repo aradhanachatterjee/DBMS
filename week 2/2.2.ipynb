{
 "cells": [
  {
   "cell_type": "code",
   "execution_count": 1,
   "id": "69f98ce0-8dad-4b59-9c72-5e05b60e4d4d",
   "metadata": {},
   "outputs": [],
   "source": [
    "import pandas as pd\n",
    "import matplotlib.pyplot as plt\n",
    "from IPython.display import HTML"
   ]
  },
  {
   "cell_type": "markdown",
   "id": "bdd77249-48fe-4db0-b672-cbb0e009dbc1",
   "metadata": {},
   "source": [
    "### Select Operation (σ) - selection of rows (tuples)"
   ]
  },
  {
   "cell_type": "code",
   "execution_count": 2,
   "id": "fbbbfe68-dd75-4a8b-9b3a-331237c83f31",
   "metadata": {},
   "outputs": [
    {
     "data": {
      "text/html": [
       "<table border=\"1\" class=\"dataframe\">\n",
       "  <thead>\n",
       "    <tr style=\"text-align: right;\">\n",
       "      <th>𝐴</th>\n",
       "      <th>𝐵</th>\n",
       "      <th>𝐶</th>\n",
       "      <th>𝐷</th>\n",
       "    </tr>\n",
       "  </thead>\n",
       "  <tbody>\n",
       "    <tr>\n",
       "      <td>α</td>\n",
       "      <td>α</td>\n",
       "      <td>1</td>\n",
       "      <td>7</td>\n",
       "    </tr>\n",
       "    <tr>\n",
       "      <td>α</td>\n",
       "      <td>β</td>\n",
       "      <td>5</td>\n",
       "      <td>7</td>\n",
       "    </tr>\n",
       "    <tr>\n",
       "      <td>β</td>\n",
       "      <td>β</td>\n",
       "      <td>12</td>\n",
       "      <td>3</td>\n",
       "    </tr>\n",
       "    <tr>\n",
       "      <td>β</td>\n",
       "      <td>β</td>\n",
       "      <td>23</td>\n",
       "      <td>10</td>\n",
       "    </tr>\n",
       "  </tbody>\n",
       "</table>"
      ],
      "text/plain": [
       "<IPython.core.display.HTML object>"
      ]
     },
     "execution_count": 2,
     "metadata": {},
     "output_type": "execute_result"
    }
   ],
   "source": [
    "data1 = {\n",
    "    '𝐴': ['α', 'α', 'β', 'β'],\n",
    "    '𝐵': ['α', 'β', 'β', 'β'],\n",
    "    '𝐶': [1, 5, 12, 23],\n",
    "    '𝐷': [7, 7, 3, 10]\n",
    "}\n",
    "\n",
    "# Create DataFrame\n",
    "df1 = pd.DataFrame(data1)\n",
    "\n",
    "# Display the DataFrame without the index\n",
    "HTML(df1.to_html(index=False))"
   ]
  },
  {
   "cell_type": "markdown",
   "id": "4da4a5aa-36a6-4005-bd09-badff428e5ca",
   "metadata": {},
   "source": [
    "- $σ_{A=B\\wedge D>5}(r)$"
   ]
  },
  {
   "cell_type": "code",
   "execution_count": 3,
   "id": "85d9c2e1-17a9-4622-9bcb-f005faaf79f5",
   "metadata": {},
   "outputs": [
    {
     "data": {
      "text/html": [
       "<table border=\"1\" class=\"dataframe\">\n",
       "  <thead>\n",
       "    <tr style=\"text-align: right;\">\n",
       "      <th>𝐴</th>\n",
       "      <th>𝐵</th>\n",
       "      <th>𝐶</th>\n",
       "      <th>𝐷</th>\n",
       "    </tr>\n",
       "  </thead>\n",
       "  <tbody>\n",
       "    <tr>\n",
       "      <td>α</td>\n",
       "      <td>α</td>\n",
       "      <td>1</td>\n",
       "      <td>7</td>\n",
       "    </tr>\n",
       "    <tr>\n",
       "      <td>β</td>\n",
       "      <td>β</td>\n",
       "      <td>23</td>\n",
       "      <td>10</td>\n",
       "    </tr>\n",
       "  </tbody>\n",
       "</table>"
      ],
      "text/plain": [
       "<IPython.core.display.HTML object>"
      ]
     },
     "execution_count": 3,
     "metadata": {},
     "output_type": "execute_result"
    }
   ],
   "source": [
    "# Selection operation: A = B and D > 5\n",
    "selected_df_1 = df1[(df1['𝐴'] == df1['𝐵']) & (df1['𝐷'] > 5)]\n",
    "\n",
    "# Display the DataFrame without the index\n",
    "HTML(selected_df_1.to_html(index=False))"
   ]
  },
  {
   "cell_type": "markdown",
   "id": "2fb2311d-7e94-433d-b9d5-996e72e9fe4a",
   "metadata": {},
   "source": [
    "- $ \\sigma_{A=B\\vee D>5}(r) $"
   ]
  },
  {
   "cell_type": "code",
   "execution_count": 4,
   "id": "5b0a4946-3bb3-4e58-b04c-2e95c227b0f6",
   "metadata": {},
   "outputs": [
    {
     "data": {
      "text/html": [
       "<table border=\"1\" class=\"dataframe\">\n",
       "  <thead>\n",
       "    <tr style=\"text-align: right;\">\n",
       "      <th>𝐴</th>\n",
       "      <th>𝐵</th>\n",
       "      <th>𝐶</th>\n",
       "      <th>𝐷</th>\n",
       "    </tr>\n",
       "  </thead>\n",
       "  <tbody>\n",
       "    <tr>\n",
       "      <td>α</td>\n",
       "      <td>α</td>\n",
       "      <td>1</td>\n",
       "      <td>7</td>\n",
       "    </tr>\n",
       "    <tr>\n",
       "      <td>α</td>\n",
       "      <td>β</td>\n",
       "      <td>5</td>\n",
       "      <td>7</td>\n",
       "    </tr>\n",
       "    <tr>\n",
       "      <td>β</td>\n",
       "      <td>β</td>\n",
       "      <td>12</td>\n",
       "      <td>3</td>\n",
       "    </tr>\n",
       "    <tr>\n",
       "      <td>β</td>\n",
       "      <td>β</td>\n",
       "      <td>23</td>\n",
       "      <td>10</td>\n",
       "    </tr>\n",
       "  </tbody>\n",
       "</table>"
      ],
      "text/plain": [
       "<IPython.core.display.HTML object>"
      ]
     },
     "execution_count": 4,
     "metadata": {},
     "output_type": "execute_result"
    }
   ],
   "source": [
    "# Selection operation: A = B OR D > 5\n",
    "selected_df_2 = df1[(df1['𝐴'] == df1['𝐵']) | (df1['𝐷'] > 5)]\n",
    "\n",
    "# Display the DataFrame without the index\n",
    "HTML(selected_df_2.to_html(index=False))"
   ]
  },
  {
   "cell_type": "markdown",
   "id": "db8795ff-aed4-4f77-a037-4e157211dd1c",
   "metadata": {},
   "source": [
    "### Project Operation ($\\pi$) - selection of columns (attributes)"
   ]
  },
  {
   "cell_type": "code",
   "execution_count": 5,
   "id": "8c196bca-d002-4f0e-a3cd-adebe7d25e50",
   "metadata": {},
   "outputs": [
    {
     "data": {
      "text/html": [
       "<table border=\"1\" class=\"dataframe\">\n",
       "  <thead>\n",
       "    <tr style=\"text-align: right;\">\n",
       "      <th>𝐴</th>\n",
       "      <th>𝐵</th>\n",
       "      <th>𝐶</th>\n",
       "    </tr>\n",
       "  </thead>\n",
       "  <tbody>\n",
       "    <tr>\n",
       "      <td>α</td>\n",
       "      <td>10</td>\n",
       "      <td>1</td>\n",
       "    </tr>\n",
       "    <tr>\n",
       "      <td>α</td>\n",
       "      <td>20</td>\n",
       "      <td>1</td>\n",
       "    </tr>\n",
       "    <tr>\n",
       "      <td>β</td>\n",
       "      <td>30</td>\n",
       "      <td>1</td>\n",
       "    </tr>\n",
       "    <tr>\n",
       "      <td>β</td>\n",
       "      <td>40</td>\n",
       "      <td>2</td>\n",
       "    </tr>\n",
       "  </tbody>\n",
       "</table>"
      ],
      "text/plain": [
       "<IPython.core.display.HTML object>"
      ]
     },
     "execution_count": 5,
     "metadata": {},
     "output_type": "execute_result"
    }
   ],
   "source": [
    "relation2 = {\n",
    "    '𝐴': ['α', 'α', 'β', 'β'],\n",
    "    '𝐵': [10, 20, 30, 40],\n",
    "    '𝐶': [1, 1, 1, 2]\n",
    "}\n",
    "\n",
    "# Create DataFrame\n",
    "df2 = pd.DataFrame(relation2)\n",
    "\n",
    "# Display the DataFrame without the index\n",
    "HTML(df2.to_html(index=False))"
   ]
  },
  {
   "cell_type": "markdown",
   "id": "d8adcf4e-8b9e-4f52-a4ed-5dbfccfdec72",
   "metadata": {},
   "source": [
    "- $\\pi_{A,C}(r)$"
   ]
  },
  {
   "cell_type": "code",
   "execution_count": 6,
   "id": "928c9bd9-d73e-49a2-8a14-1233c0a32d16",
   "metadata": {},
   "outputs": [
    {
     "data": {
      "text/html": [
       "<table border=\"1\" class=\"dataframe\">\n",
       "  <thead>\n",
       "    <tr style=\"text-align: right;\">\n",
       "      <th>𝐴</th>\n",
       "      <th>𝐶</th>\n",
       "    </tr>\n",
       "  </thead>\n",
       "  <tbody>\n",
       "    <tr>\n",
       "      <td>α</td>\n",
       "      <td>1</td>\n",
       "    </tr>\n",
       "    <tr>\n",
       "      <td>α</td>\n",
       "      <td>1</td>\n",
       "    </tr>\n",
       "    <tr>\n",
       "      <td>β</td>\n",
       "      <td>1</td>\n",
       "    </tr>\n",
       "    <tr>\n",
       "      <td>β</td>\n",
       "      <td>2</td>\n",
       "    </tr>\n",
       "  </tbody>\n",
       "</table>"
      ],
      "text/plain": [
       "<IPython.core.display.HTML object>"
      ]
     },
     "execution_count": 6,
     "metadata": {},
     "output_type": "execute_result"
    }
   ],
   "source": [
    "# Projection: Select columns A and C\n",
    "projected_df_1 = df2[['𝐴', '𝐶']]\n",
    "\n",
    "# Display the projected DataFrame with duplicates\n",
    "HTML(projected_df_1.to_html(index=False))"
   ]
  },
  {
   "cell_type": "code",
   "execution_count": 7,
   "id": "8c707ed9-52f4-49dd-8483-9f1ed5a7d2ec",
   "metadata": {},
   "outputs": [
    {
     "data": {
      "text/html": [
       "<table border=\"1\" class=\"dataframe\">\n",
       "  <thead>\n",
       "    <tr style=\"text-align: right;\">\n",
       "      <th>𝐴</th>\n",
       "      <th>𝐶</th>\n",
       "    </tr>\n",
       "  </thead>\n",
       "  <tbody>\n",
       "    <tr>\n",
       "      <td>α</td>\n",
       "      <td>1</td>\n",
       "    </tr>\n",
       "    <tr>\n",
       "      <td>β</td>\n",
       "      <td>1</td>\n",
       "    </tr>\n",
       "    <tr>\n",
       "      <td>β</td>\n",
       "      <td>2</td>\n",
       "    </tr>\n",
       "  </tbody>\n",
       "</table>"
      ],
      "text/plain": [
       "<IPython.core.display.HTML object>"
      ]
     },
     "execution_count": 7,
     "metadata": {},
     "output_type": "execute_result"
    }
   ],
   "source": [
    "# Remove duplicate rows\n",
    "unique_projected_df_1 = projected_df_1.drop_duplicates()\n",
    "\n",
    "# Display the unique projected DataFrame\n",
    "HTML(unique_projected_df_1.to_html(index=False))\n"
   ]
  },
  {
   "cell_type": "markdown",
   "id": "19cbbebd-c8ba-450e-aa99-9d181beee733",
   "metadata": {},
   "source": [
    "### Union of two relations"
   ]
  },
  {
   "cell_type": "code",
   "execution_count": 8,
   "id": "a220cacc-2f46-4794-963a-49ce394a4a47",
   "metadata": {},
   "outputs": [],
   "source": [
    "r = {\n",
    "    '𝐴': ['α', 'α', 'β'],\n",
    "    '𝐵': [1, 2, 1]\n",
    "}\n",
    "\n",
    "# Create DataFrame\n",
    "df_r = pd.DataFrame(r)\n",
    "\n",
    "s = {\n",
    "    '𝐴': ['α', 'β'],\n",
    "    '𝐵': [2, 3]\n",
    "}\n",
    "\n",
    "# Create DataFrame\n",
    "df_s = pd.DataFrame(s)"
   ]
  },
  {
   "cell_type": "code",
   "execution_count": 9,
   "id": "3ee24f57-23f6-4351-bad2-98075f6272d7",
   "metadata": {},
   "outputs": [
    {
     "data": {
      "text/html": [
       "<table border=\"1\" class=\"dataframe\">\n",
       "  <thead>\n",
       "    <tr style=\"text-align: right;\">\n",
       "      <th>𝐴</th>\n",
       "      <th>𝐵</th>\n",
       "    </tr>\n",
       "  </thead>\n",
       "  <tbody>\n",
       "    <tr>\n",
       "      <td>α</td>\n",
       "      <td>1</td>\n",
       "    </tr>\n",
       "    <tr>\n",
       "      <td>α</td>\n",
       "      <td>2</td>\n",
       "    </tr>\n",
       "    <tr>\n",
       "      <td>β</td>\n",
       "      <td>1</td>\n",
       "    </tr>\n",
       "  </tbody>\n",
       "</table>"
      ],
      "text/plain": [
       "<IPython.core.display.HTML object>"
      ]
     },
     "execution_count": 9,
     "metadata": {},
     "output_type": "execute_result"
    }
   ],
   "source": [
    "# Display the DataFrame without the index\n",
    "HTML(df_r.to_html(index=False))"
   ]
  },
  {
   "cell_type": "code",
   "execution_count": 10,
   "id": "7a9ac73b-a63b-44be-bab2-6e76850f3d7e",
   "metadata": {},
   "outputs": [
    {
     "data": {
      "text/html": [
       "<table border=\"1\" class=\"dataframe\">\n",
       "  <thead>\n",
       "    <tr style=\"text-align: right;\">\n",
       "      <th>𝐴</th>\n",
       "      <th>𝐵</th>\n",
       "    </tr>\n",
       "  </thead>\n",
       "  <tbody>\n",
       "    <tr>\n",
       "      <td>α</td>\n",
       "      <td>2</td>\n",
       "    </tr>\n",
       "    <tr>\n",
       "      <td>β</td>\n",
       "      <td>3</td>\n",
       "    </tr>\n",
       "  </tbody>\n",
       "</table>"
      ],
      "text/plain": [
       "<IPython.core.display.HTML object>"
      ]
     },
     "execution_count": 10,
     "metadata": {},
     "output_type": "execute_result"
    }
   ],
   "source": [
    "# Display the DataFrame without the index\n",
    "HTML(df_s.to_html(index=False))"
   ]
  },
  {
   "cell_type": "markdown",
   "id": "1301dd71-dab6-43ee-9735-4bd6a65898c5",
   "metadata": {},
   "source": [
    "$r\\cup s$"
   ]
  },
  {
   "cell_type": "code",
   "execution_count": 11,
   "id": "c1f8ead0-4575-4ccd-a0f4-0d2e7bd72e20",
   "metadata": {},
   "outputs": [],
   "source": [
    "# Union of df_r and df_s\n",
    "union_df = pd.concat([df_r, df_s]).drop_duplicates().reset_index(drop=True)"
   ]
  },
  {
   "cell_type": "code",
   "execution_count": 12,
   "id": "a81f49db-a575-47f7-b763-1e15bf074e07",
   "metadata": {},
   "outputs": [
    {
     "data": {
      "text/html": [
       "<table border=\"1\" class=\"dataframe\">\n",
       "  <thead>\n",
       "    <tr style=\"text-align: right;\">\n",
       "      <th>𝐴</th>\n",
       "      <th>𝐵</th>\n",
       "    </tr>\n",
       "  </thead>\n",
       "  <tbody>\n",
       "    <tr>\n",
       "      <td>α</td>\n",
       "      <td>1</td>\n",
       "    </tr>\n",
       "    <tr>\n",
       "      <td>α</td>\n",
       "      <td>2</td>\n",
       "    </tr>\n",
       "    <tr>\n",
       "      <td>β</td>\n",
       "      <td>1</td>\n",
       "    </tr>\n",
       "    <tr>\n",
       "      <td>β</td>\n",
       "      <td>3</td>\n",
       "    </tr>\n",
       "  </tbody>\n",
       "</table>"
      ],
      "text/plain": [
       "<IPython.core.display.HTML object>"
      ]
     },
     "execution_count": 12,
     "metadata": {},
     "output_type": "execute_result"
    }
   ],
   "source": [
    "# Display the union DataFrame without the index\n",
    "HTML(union_df.to_html(index=False))"
   ]
  },
  {
   "cell_type": "markdown",
   "id": "6e5480d5-c1d5-4873-b922-b6eea1124b6a",
   "metadata": {},
   "source": [
    "### Set Difference of two relations"
   ]
  },
  {
   "cell_type": "code",
   "execution_count": 13,
   "id": "6f4d1b13-5790-411f-852f-5c23eea87867",
   "metadata": {},
   "outputs": [],
   "source": [
    "r = {\n",
    "    '𝐴': ['α', 'α', 'β'],\n",
    "    '𝐵': [1, 2, 1]\n",
    "}\n",
    "\n",
    "# Create DataFrame\n",
    "df_r = pd.DataFrame(r)\n",
    "\n",
    "s = {\n",
    "    '𝐴': ['α', 'β'],\n",
    "    '𝐵': [2, 3]\n",
    "}\n",
    "\n",
    "# Create DataFrame\n",
    "df_s = pd.DataFrame(s)"
   ]
  },
  {
   "cell_type": "markdown",
   "id": "e3cebb90-cffe-445e-b667-c54bed59afc1",
   "metadata": {},
   "source": [
    "$r-s$"
   ]
  },
  {
   "cell_type": "code",
   "execution_count": 14,
   "id": "4f3c750f-6633-4dca-b4a9-d7f793d1a5dd",
   "metadata": {},
   "outputs": [
    {
     "name": "stdout",
     "output_type": "stream",
     "text": [
      "Set Difference r - s:\n"
     ]
    },
    {
     "data": {
      "text/html": [
       "<table border=\"1\" class=\"dataframe\">\n",
       "  <thead>\n",
       "    <tr style=\"text-align: right;\">\n",
       "      <th>𝐴</th>\n",
       "      <th>𝐵</th>\n",
       "    </tr>\n",
       "  </thead>\n",
       "  <tbody>\n",
       "    <tr>\n",
       "      <td>α</td>\n",
       "      <td>1</td>\n",
       "    </tr>\n",
       "    <tr>\n",
       "      <td>β</td>\n",
       "      <td>1</td>\n",
       "    </tr>\n",
       "  </tbody>\n",
       "</table>"
      ],
      "text/plain": [
       "<IPython.core.display.HTML object>"
      ]
     },
     "metadata": {},
     "output_type": "display_data"
    }
   ],
   "source": [
    "# Set difference r - s\n",
    "difference_df = df_r.merge(df_s, on=['𝐴', '𝐵'], how='left', indicator=True).query('_merge == \"left_only\"').drop(columns=['_merge'])\n",
    "\n",
    "# Display the set difference DataFrame without the index\n",
    "print(\"Set Difference r - s:\")\n",
    "display(HTML(difference_df.to_html(index=False)))"
   ]
  },
  {
   "cell_type": "code",
   "execution_count": 15,
   "id": "e1651156-bfd9-452d-b770-3f3c1f368dcb",
   "metadata": {},
   "outputs": [
    {
     "name": "stdout",
     "output_type": "stream",
     "text": [
      "DataFrame r:\n"
     ]
    },
    {
     "data": {
      "text/html": [
       "<table border=\"1\" class=\"dataframe\">\n",
       "  <thead>\n",
       "    <tr style=\"text-align: right;\">\n",
       "      <th>𝐴</th>\n",
       "      <th>𝐵</th>\n",
       "    </tr>\n",
       "  </thead>\n",
       "  <tbody>\n",
       "    <tr>\n",
       "      <td>α</td>\n",
       "      <td>1</td>\n",
       "    </tr>\n",
       "    <tr>\n",
       "      <td>α</td>\n",
       "      <td>2</td>\n",
       "    </tr>\n",
       "    <tr>\n",
       "      <td>β</td>\n",
       "      <td>1</td>\n",
       "    </tr>\n",
       "  </tbody>\n",
       "</table>"
      ],
      "text/plain": [
       "<IPython.core.display.HTML object>"
      ]
     },
     "metadata": {},
     "output_type": "display_data"
    },
    {
     "name": "stdout",
     "output_type": "stream",
     "text": [
      "DataFrame s:\n"
     ]
    },
    {
     "data": {
      "text/html": [
       "<table border=\"1\" class=\"dataframe\">\n",
       "  <thead>\n",
       "    <tr style=\"text-align: right;\">\n",
       "      <th>𝐴</th>\n",
       "      <th>𝐵</th>\n",
       "    </tr>\n",
       "  </thead>\n",
       "  <tbody>\n",
       "    <tr>\n",
       "      <td>α</td>\n",
       "      <td>2</td>\n",
       "    </tr>\n",
       "    <tr>\n",
       "      <td>β</td>\n",
       "      <td>3</td>\n",
       "    </tr>\n",
       "  </tbody>\n",
       "</table>"
      ],
      "text/plain": [
       "<IPython.core.display.HTML object>"
      ]
     },
     "metadata": {},
     "output_type": "display_data"
    },
    {
     "name": "stdout",
     "output_type": "stream",
     "text": [
      "Set Difference r - s:\n"
     ]
    },
    {
     "data": {
      "text/html": [
       "<table border=\"1\" class=\"dataframe\">\n",
       "  <thead>\n",
       "    <tr style=\"text-align: right;\">\n",
       "      <th>𝐴</th>\n",
       "      <th>𝐵</th>\n",
       "    </tr>\n",
       "  </thead>\n",
       "  <tbody>\n",
       "    <tr>\n",
       "      <td>α</td>\n",
       "      <td>1</td>\n",
       "    </tr>\n",
       "    <tr>\n",
       "      <td>β</td>\n",
       "      <td>1</td>\n",
       "    </tr>\n",
       "  </tbody>\n",
       "</table>"
      ],
      "text/plain": [
       "<IPython.core.display.HTML object>"
      ]
     },
     "metadata": {},
     "output_type": "display_data"
    }
   ],
   "source": [
    "import pandas as pd\n",
    "from IPython.display import HTML\n",
    "\n",
    "# Relation r\n",
    "r = {\n",
    "    '𝐴': ['α', 'α', 'β'],\n",
    "    '𝐵': [1, 2, 1]\n",
    "}\n",
    "\n",
    "# Create DataFrame for r\n",
    "df_r = pd.DataFrame(r)\n",
    "\n",
    "# Relation s\n",
    "s = {\n",
    "    '𝐴': ['α', 'β'],\n",
    "    '𝐵': [2, 3]\n",
    "}\n",
    "\n",
    "# Create DataFrame for s\n",
    "df_s = pd.DataFrame(s)\n",
    "\n",
    "# Display the original DataFrames without the index\n",
    "print(\"DataFrame r:\")\n",
    "display(HTML(df_r.to_html(index=False)))\n",
    "\n",
    "print(\"DataFrame s:\")\n",
    "display(HTML(df_s.to_html(index=False)))\n",
    "\n",
    "# Set difference r - s\n",
    "difference_df = df_r.merge(df_s, on=['𝐴', '𝐵'], how='left', indicator=True).query('_merge == \"left_only\"').drop(columns=['_merge'])\n",
    "\n",
    "# Display the set difference DataFrame without the index\n",
    "print(\"Set Difference r - s:\")\n",
    "display(HTML(difference_df.to_html(index=False)))"
   ]
  },
  {
   "cell_type": "markdown",
   "id": "f353aa7e-85cc-428e-842e-e1087b73467a",
   "metadata": {},
   "source": [
    "### Set intersection of two relations"
   ]
  },
  {
   "cell_type": "code",
   "execution_count": 16,
   "id": "339f38ec-1dba-4041-9d0f-528bd8625556",
   "metadata": {},
   "outputs": [
    {
     "name": "stdout",
     "output_type": "stream",
     "text": [
      "DataFrame r:\n"
     ]
    },
    {
     "data": {
      "text/html": [
       "<table border=\"1\" class=\"dataframe\">\n",
       "  <thead>\n",
       "    <tr style=\"text-align: right;\">\n",
       "      <th>𝐴</th>\n",
       "      <th>𝐵</th>\n",
       "    </tr>\n",
       "  </thead>\n",
       "  <tbody>\n",
       "    <tr>\n",
       "      <td>α</td>\n",
       "      <td>1</td>\n",
       "    </tr>\n",
       "    <tr>\n",
       "      <td>α</td>\n",
       "      <td>2</td>\n",
       "    </tr>\n",
       "    <tr>\n",
       "      <td>β</td>\n",
       "      <td>1</td>\n",
       "    </tr>\n",
       "  </tbody>\n",
       "</table>"
      ],
      "text/plain": [
       "<IPython.core.display.HTML object>"
      ]
     },
     "metadata": {},
     "output_type": "display_data"
    },
    {
     "name": "stdout",
     "output_type": "stream",
     "text": [
      "DataFrame s:\n"
     ]
    },
    {
     "data": {
      "text/html": [
       "<table border=\"1\" class=\"dataframe\">\n",
       "  <thead>\n",
       "    <tr style=\"text-align: right;\">\n",
       "      <th>𝐴</th>\n",
       "      <th>𝐵</th>\n",
       "    </tr>\n",
       "  </thead>\n",
       "  <tbody>\n",
       "    <tr>\n",
       "      <td>α</td>\n",
       "      <td>2</td>\n",
       "    </tr>\n",
       "    <tr>\n",
       "      <td>β</td>\n",
       "      <td>3</td>\n",
       "    </tr>\n",
       "  </tbody>\n",
       "</table>"
      ],
      "text/plain": [
       "<IPython.core.display.HTML object>"
      ]
     },
     "metadata": {},
     "output_type": "display_data"
    }
   ],
   "source": [
    "import pandas as pd\n",
    "from IPython.display import HTML\n",
    "\n",
    "# Relation r\n",
    "r = {\n",
    "    '𝐴': ['α', 'α', 'β'],\n",
    "    '𝐵': [1, 2, 1]\n",
    "}\n",
    "\n",
    "# Create DataFrame for r\n",
    "df_r = pd.DataFrame(r)\n",
    "\n",
    "# Relation s\n",
    "s = {\n",
    "    '𝐴': ['α', 'β'],\n",
    "    '𝐵': [2, 3]\n",
    "}\n",
    "\n",
    "# Create DataFrame for s\n",
    "df_s = pd.DataFrame(s)\n",
    "\n",
    "# Display the original DataFrames without the index\n",
    "print(\"DataFrame r:\")\n",
    "display(HTML(df_r.to_html(index=False)))\n",
    "\n",
    "print(\"DataFrame s:\")\n",
    "display(HTML(df_s.to_html(index=False)))"
   ]
  },
  {
   "cell_type": "markdown",
   "id": "833f398b-abb2-4056-b18d-05aaf34e7456",
   "metadata": {},
   "source": [
    "### $r \\cap s$"
   ]
  },
  {
   "cell_type": "code",
   "execution_count": 17,
   "id": "6fde2656-ae60-4fad-8bcc-681df4ebf5f7",
   "metadata": {},
   "outputs": [
    {
     "name": "stdout",
     "output_type": "stream",
     "text": [
      "Intersection of r and s:\n"
     ]
    },
    {
     "data": {
      "text/html": [
       "<table border=\"1\" class=\"dataframe\">\n",
       "  <thead>\n",
       "    <tr style=\"text-align: right;\">\n",
       "      <th>𝐴</th>\n",
       "      <th>𝐵</th>\n",
       "    </tr>\n",
       "  </thead>\n",
       "  <tbody>\n",
       "    <tr>\n",
       "      <td>α</td>\n",
       "      <td>2</td>\n",
       "    </tr>\n",
       "  </tbody>\n",
       "</table>"
      ],
      "text/plain": [
       "<IPython.core.display.HTML object>"
      ]
     },
     "metadata": {},
     "output_type": "display_data"
    }
   ],
   "source": [
    "# Intersection of df_r and df_s\n",
    "intersection_df = pd.merge(df_r, df_s, on=['𝐴', '𝐵'], how='inner')\n",
    "\n",
    "# Display the intersection DataFrame without the index\n",
    "print(\"Intersection of r and s:\")\n",
    "display(HTML(intersection_df.to_html(index=False)))"
   ]
  },
  {
   "cell_type": "markdown",
   "id": "d833979a-aef1-45d1-a677-b8eba0131b6c",
   "metadata": {},
   "source": [
    "**Note:** $r \\cap s = r - (r - s)$"
   ]
  },
  {
   "cell_type": "markdown",
   "id": "6803060d-5551-4cff-b864-1e557f6a78b5",
   "metadata": {},
   "source": [
    "### Joining two relations - Cartesian Product"
   ]
  },
  {
   "cell_type": "code",
   "execution_count": 18,
   "id": "2c6ba060-cdad-4661-818a-02c501c4c99d",
   "metadata": {},
   "outputs": [
    {
     "name": "stdout",
     "output_type": "stream",
     "text": [
      "DataFrame r:\n"
     ]
    },
    {
     "data": {
      "text/html": [
       "<table border=\"1\" class=\"dataframe\">\n",
       "  <thead>\n",
       "    <tr style=\"text-align: right;\">\n",
       "      <th>𝐴</th>\n",
       "      <th>𝐵</th>\n",
       "    </tr>\n",
       "  </thead>\n",
       "  <tbody>\n",
       "    <tr>\n",
       "      <td>α</td>\n",
       "      <td>1</td>\n",
       "    </tr>\n",
       "    <tr>\n",
       "      <td>β</td>\n",
       "      <td>2</td>\n",
       "    </tr>\n",
       "  </tbody>\n",
       "</table>"
      ],
      "text/plain": [
       "<IPython.core.display.HTML object>"
      ]
     },
     "metadata": {},
     "output_type": "display_data"
    },
    {
     "name": "stdout",
     "output_type": "stream",
     "text": [
      "DataFrame s:\n"
     ]
    },
    {
     "data": {
      "text/html": [
       "<table border=\"1\" class=\"dataframe\">\n",
       "  <thead>\n",
       "    <tr style=\"text-align: right;\">\n",
       "      <th>𝐶</th>\n",
       "      <th>𝐷</th>\n",
       "      <th>𝐸</th>\n",
       "    </tr>\n",
       "  </thead>\n",
       "  <tbody>\n",
       "    <tr>\n",
       "      <td>α</td>\n",
       "      <td>10</td>\n",
       "      <td>a</td>\n",
       "    </tr>\n",
       "    <tr>\n",
       "      <td>β</td>\n",
       "      <td>10</td>\n",
       "      <td>a</td>\n",
       "    </tr>\n",
       "    <tr>\n",
       "      <td>β</td>\n",
       "      <td>20</td>\n",
       "      <td>b</td>\n",
       "    </tr>\n",
       "    <tr>\n",
       "      <td>γ</td>\n",
       "      <td>10</td>\n",
       "      <td>b</td>\n",
       "    </tr>\n",
       "  </tbody>\n",
       "</table>"
      ],
      "text/plain": [
       "<IPython.core.display.HTML object>"
      ]
     },
     "metadata": {},
     "output_type": "display_data"
    }
   ],
   "source": [
    "import pandas as pd\n",
    "from IPython.display import HTML\n",
    "\n",
    "# Relation r\n",
    "r = {\n",
    "    '𝐴': ['α', 'β'],\n",
    "    '𝐵': [1, 2]\n",
    "}\n",
    "\n",
    "# Create DataFrame for r\n",
    "df_r = pd.DataFrame(r)\n",
    "\n",
    "# Relation s\n",
    "s = {\n",
    "    '𝐶': ['α', 'β', 'β', 'γ'],\n",
    "    '𝐷': [10, 10, 20, 10],\n",
    "    '𝐸': ['a', 'a', 'b', 'b']\n",
    "}\n",
    "\n",
    "# Create DataFrame for s\n",
    "df_s = pd.DataFrame(s)\n",
    "\n",
    "# Display the original DataFrames without the index\n",
    "print(\"DataFrame r:\")\n",
    "display(HTML(df_r.to_html(index=False)))\n",
    "\n",
    "print(\"DataFrame s:\")\n",
    "display(HTML(df_s.to_html(index=False)))"
   ]
  },
  {
   "cell_type": "markdown",
   "id": "af0e86fc-ad27-4edb-b44e-77ea8d9e5440",
   "metadata": {},
   "source": [
    "### $r \\times s$"
   ]
  },
  {
   "cell_type": "code",
   "execution_count": 19,
   "id": "eba83526-40c5-4f1e-9cda-3e77f5493ecc",
   "metadata": {},
   "outputs": [
    {
     "name": "stdout",
     "output_type": "stream",
     "text": [
      "Cartesian Product of r and s:\n"
     ]
    },
    {
     "data": {
      "text/html": [
       "<table border=\"1\" class=\"dataframe\">\n",
       "  <thead>\n",
       "    <tr style=\"text-align: right;\">\n",
       "      <th>𝐴</th>\n",
       "      <th>𝐵</th>\n",
       "      <th>𝐶</th>\n",
       "      <th>𝐷</th>\n",
       "      <th>𝐸</th>\n",
       "    </tr>\n",
       "  </thead>\n",
       "  <tbody>\n",
       "    <tr>\n",
       "      <td>α</td>\n",
       "      <td>1</td>\n",
       "      <td>α</td>\n",
       "      <td>10</td>\n",
       "      <td>a</td>\n",
       "    </tr>\n",
       "    <tr>\n",
       "      <td>α</td>\n",
       "      <td>1</td>\n",
       "      <td>β</td>\n",
       "      <td>10</td>\n",
       "      <td>a</td>\n",
       "    </tr>\n",
       "    <tr>\n",
       "      <td>α</td>\n",
       "      <td>1</td>\n",
       "      <td>β</td>\n",
       "      <td>20</td>\n",
       "      <td>b</td>\n",
       "    </tr>\n",
       "    <tr>\n",
       "      <td>α</td>\n",
       "      <td>1</td>\n",
       "      <td>γ</td>\n",
       "      <td>10</td>\n",
       "      <td>b</td>\n",
       "    </tr>\n",
       "    <tr>\n",
       "      <td>β</td>\n",
       "      <td>2</td>\n",
       "      <td>α</td>\n",
       "      <td>10</td>\n",
       "      <td>a</td>\n",
       "    </tr>\n",
       "    <tr>\n",
       "      <td>β</td>\n",
       "      <td>2</td>\n",
       "      <td>β</td>\n",
       "      <td>10</td>\n",
       "      <td>a</td>\n",
       "    </tr>\n",
       "    <tr>\n",
       "      <td>β</td>\n",
       "      <td>2</td>\n",
       "      <td>β</td>\n",
       "      <td>20</td>\n",
       "      <td>b</td>\n",
       "    </tr>\n",
       "    <tr>\n",
       "      <td>β</td>\n",
       "      <td>2</td>\n",
       "      <td>γ</td>\n",
       "      <td>10</td>\n",
       "      <td>b</td>\n",
       "    </tr>\n",
       "  </tbody>\n",
       "</table>"
      ],
      "text/plain": [
       "<IPython.core.display.HTML object>"
      ]
     },
     "metadata": {},
     "output_type": "display_data"
    }
   ],
   "source": [
    "# Cartesian product of df_r and df_s\n",
    "cartesian_product_df = pd.merge(df_r.assign(key=1), df_s.assign(key=1), on='key').drop('key', axis=1)\n",
    "\n",
    "# Display the Cartesian product DataFrame without the index\n",
    "print(\"Cartesian Product of r and s:\")\n",
    "display(HTML(cartesian_product_df.to_html(index=False)))"
   ]
  },
  {
   "cell_type": "markdown",
   "id": "3a6a9910-1c1c-4555-8cff-3f11e2e23c09",
   "metadata": {},
   "source": [
    "### Cartesian Product - naming issue"
   ]
  },
  {
   "cell_type": "code",
   "execution_count": 20,
   "id": "3047566a-528f-484e-a45e-4a0820853286",
   "metadata": {},
   "outputs": [
    {
     "name": "stdout",
     "output_type": "stream",
     "text": [
      "DataFrame r:\n"
     ]
    },
    {
     "data": {
      "text/html": [
       "<table border=\"1\" class=\"dataframe\">\n",
       "  <thead>\n",
       "    <tr style=\"text-align: right;\">\n",
       "      <th>𝐴</th>\n",
       "      <th>𝐵</th>\n",
       "    </tr>\n",
       "  </thead>\n",
       "  <tbody>\n",
       "    <tr>\n",
       "      <td>α</td>\n",
       "      <td>1</td>\n",
       "    </tr>\n",
       "    <tr>\n",
       "      <td>β</td>\n",
       "      <td>2</td>\n",
       "    </tr>\n",
       "  </tbody>\n",
       "</table>"
      ],
      "text/plain": [
       "<IPython.core.display.HTML object>"
      ]
     },
     "metadata": {},
     "output_type": "display_data"
    },
    {
     "name": "stdout",
     "output_type": "stream",
     "text": [
      "DataFrame s:\n"
     ]
    },
    {
     "data": {
      "text/html": [
       "<table border=\"1\" class=\"dataframe\">\n",
       "  <thead>\n",
       "    <tr style=\"text-align: right;\">\n",
       "      <th>𝐵</th>\n",
       "      <th>𝐷</th>\n",
       "      <th>𝐸</th>\n",
       "    </tr>\n",
       "  </thead>\n",
       "  <tbody>\n",
       "    <tr>\n",
       "      <td>α</td>\n",
       "      <td>10</td>\n",
       "      <td>a</td>\n",
       "    </tr>\n",
       "    <tr>\n",
       "      <td>β</td>\n",
       "      <td>10</td>\n",
       "      <td>a</td>\n",
       "    </tr>\n",
       "    <tr>\n",
       "      <td>β</td>\n",
       "      <td>20</td>\n",
       "      <td>b</td>\n",
       "    </tr>\n",
       "    <tr>\n",
       "      <td>γ</td>\n",
       "      <td>10</td>\n",
       "      <td>b</td>\n",
       "    </tr>\n",
       "  </tbody>\n",
       "</table>"
      ],
      "text/plain": [
       "<IPython.core.display.HTML object>"
      ]
     },
     "metadata": {},
     "output_type": "display_data"
    }
   ],
   "source": [
    "import pandas as pd\n",
    "from IPython.display import HTML\n",
    "\n",
    "# Relation r\n",
    "r = {\n",
    "    '𝐴': ['α', 'β'],\n",
    "    '𝐵': [1, 2]\n",
    "}\n",
    "\n",
    "# Create DataFrame for r\n",
    "df_r = pd.DataFrame(r)\n",
    "\n",
    "# Relation s\n",
    "s = {\n",
    "    '𝐵': ['α', 'β', 'β', 'γ'],\n",
    "    '𝐷': [10, 10, 20, 10],\n",
    "    '𝐸': ['a', 'a', 'b', 'b']\n",
    "}\n",
    "\n",
    "# Create DataFrame for s\n",
    "df_s = pd.DataFrame(s)\n",
    "\n",
    "# Display the original DataFrames without the index\n",
    "print(\"DataFrame r:\")\n",
    "display(HTML(df_r.to_html(index=False)))\n",
    "\n",
    "print(\"DataFrame s:\")\n",
    "display(HTML(df_s.to_html(index=False)))"
   ]
  },
  {
   "cell_type": "code",
   "execution_count": null,
   "id": "775bc1f2-bd6b-4b4d-ad1c-a8e2452d29a7",
   "metadata": {},
   "outputs": [],
   "source": []
  },
  {
   "cell_type": "markdown",
   "id": "20143caa-9524-46fd-aca5-43f77f88b259",
   "metadata": {},
   "source": [
    "### $r \\times s$"
   ]
  },
  {
   "cell_type": "code",
   "execution_count": 21,
   "id": "1e810fdb-c1cd-416d-96e8-0ab944c565c5",
   "metadata": {},
   "outputs": [
    {
     "name": "stdout",
     "output_type": "stream",
     "text": [
      "Cartesian Product of r and s:\n"
     ]
    },
    {
     "data": {
      "text/html": [
       "<table border=\"1\" class=\"dataframe\">\n",
       "  <thead>\n",
       "    <tr style=\"text-align: right;\">\n",
       "      <th>𝐴</th>\n",
       "      <th>𝐵_x</th>\n",
       "      <th>𝐵_y</th>\n",
       "      <th>𝐷</th>\n",
       "      <th>𝐸</th>\n",
       "    </tr>\n",
       "  </thead>\n",
       "  <tbody>\n",
       "    <tr>\n",
       "      <td>α</td>\n",
       "      <td>1</td>\n",
       "      <td>α</td>\n",
       "      <td>10</td>\n",
       "      <td>a</td>\n",
       "    </tr>\n",
       "    <tr>\n",
       "      <td>α</td>\n",
       "      <td>1</td>\n",
       "      <td>β</td>\n",
       "      <td>10</td>\n",
       "      <td>a</td>\n",
       "    </tr>\n",
       "    <tr>\n",
       "      <td>α</td>\n",
       "      <td>1</td>\n",
       "      <td>β</td>\n",
       "      <td>20</td>\n",
       "      <td>b</td>\n",
       "    </tr>\n",
       "    <tr>\n",
       "      <td>α</td>\n",
       "      <td>1</td>\n",
       "      <td>γ</td>\n",
       "      <td>10</td>\n",
       "      <td>b</td>\n",
       "    </tr>\n",
       "    <tr>\n",
       "      <td>β</td>\n",
       "      <td>2</td>\n",
       "      <td>α</td>\n",
       "      <td>10</td>\n",
       "      <td>a</td>\n",
       "    </tr>\n",
       "    <tr>\n",
       "      <td>β</td>\n",
       "      <td>2</td>\n",
       "      <td>β</td>\n",
       "      <td>10</td>\n",
       "      <td>a</td>\n",
       "    </tr>\n",
       "    <tr>\n",
       "      <td>β</td>\n",
       "      <td>2</td>\n",
       "      <td>β</td>\n",
       "      <td>20</td>\n",
       "      <td>b</td>\n",
       "    </tr>\n",
       "    <tr>\n",
       "      <td>β</td>\n",
       "      <td>2</td>\n",
       "      <td>γ</td>\n",
       "      <td>10</td>\n",
       "      <td>b</td>\n",
       "    </tr>\n",
       "  </tbody>\n",
       "</table>"
      ],
      "text/plain": [
       "<IPython.core.display.HTML object>"
      ]
     },
     "metadata": {},
     "output_type": "display_data"
    }
   ],
   "source": [
    "# Cartesian product of df_r and df_s\n",
    "cartesian_product_df = pd.merge(df_r.assign(key=1), df_s.assign(key=1), on='key').drop('key', axis=1)\n",
    "\n",
    "# Display the Cartesian product DataFrame without the index\n",
    "print(\"Cartesian Product of r and s:\")\n",
    "display(HTML(cartesian_product_df.to_html(index=False)))"
   ]
  },
  {
   "cell_type": "code",
   "execution_count": 22,
   "id": "aaf88d12-6a57-4cda-ab14-97a554a6bc03",
   "metadata": {},
   "outputs": [
    {
     "name": "stdout",
     "output_type": "stream",
     "text": [
      "Cartesian Product of r and s:\n"
     ]
    },
    {
     "data": {
      "text/html": [
       "<table border=\"1\" class=\"dataframe\">\n",
       "  <thead>\n",
       "    <tr style=\"text-align: right;\">\n",
       "      <th>𝐴</th>\n",
       "      <th>r.𝐵</th>\n",
       "      <th>s.𝐵</th>\n",
       "      <th>𝐷</th>\n",
       "      <th>𝐸</th>\n",
       "    </tr>\n",
       "  </thead>\n",
       "  <tbody>\n",
       "    <tr>\n",
       "      <td>α</td>\n",
       "      <td>1</td>\n",
       "      <td>α</td>\n",
       "      <td>10</td>\n",
       "      <td>a</td>\n",
       "    </tr>\n",
       "    <tr>\n",
       "      <td>α</td>\n",
       "      <td>1</td>\n",
       "      <td>β</td>\n",
       "      <td>10</td>\n",
       "      <td>a</td>\n",
       "    </tr>\n",
       "    <tr>\n",
       "      <td>α</td>\n",
       "      <td>1</td>\n",
       "      <td>β</td>\n",
       "      <td>20</td>\n",
       "      <td>b</td>\n",
       "    </tr>\n",
       "    <tr>\n",
       "      <td>α</td>\n",
       "      <td>1</td>\n",
       "      <td>γ</td>\n",
       "      <td>10</td>\n",
       "      <td>b</td>\n",
       "    </tr>\n",
       "    <tr>\n",
       "      <td>β</td>\n",
       "      <td>2</td>\n",
       "      <td>α</td>\n",
       "      <td>10</td>\n",
       "      <td>a</td>\n",
       "    </tr>\n",
       "    <tr>\n",
       "      <td>β</td>\n",
       "      <td>2</td>\n",
       "      <td>β</td>\n",
       "      <td>10</td>\n",
       "      <td>a</td>\n",
       "    </tr>\n",
       "    <tr>\n",
       "      <td>β</td>\n",
       "      <td>2</td>\n",
       "      <td>β</td>\n",
       "      <td>20</td>\n",
       "      <td>b</td>\n",
       "    </tr>\n",
       "    <tr>\n",
       "      <td>β</td>\n",
       "      <td>2</td>\n",
       "      <td>γ</td>\n",
       "      <td>10</td>\n",
       "      <td>b</td>\n",
       "    </tr>\n",
       "  </tbody>\n",
       "</table>"
      ],
      "text/plain": [
       "<IPython.core.display.HTML object>"
      ]
     },
     "metadata": {},
     "output_type": "display_data"
    }
   ],
   "source": [
    "# Cartesian product of df_r and df_s\n",
    "cartesian_product_df = pd.merge(df_r.assign(key=1), df_s.assign(key=1), on='key').drop('key', axis=1)\n",
    "\n",
    "# Rename the columns to make them unique\n",
    "cartesian_product_df.columns = ['𝐴', 'r.𝐵', 's.𝐵', '𝐷', '𝐸']\n",
    "\n",
    "# Display the Cartesian product DataFrame without the index\n",
    "print(\"Cartesian Product of r and s:\")\n",
    "display(HTML(cartesian_product_df.to_html(index=False)))"
   ]
  },
  {
   "cell_type": "markdown",
   "id": "6ff1bafe-8dcd-42b2-84c4-c78f7f21eb2d",
   "metadata": {},
   "source": [
    "### Renaming a table\n",
    "Allows us to refer to a relation, (say $E$) by more than one name.\n",
    "$$\\rho_{X}(E) $$\n",
    "returns the expression $E$ under the name $X$"
   ]
  },
  {
   "cell_type": "code",
   "execution_count": 23,
   "id": "cee9021b-a6ed-4bf7-b99d-bb3267a1172c",
   "metadata": {},
   "outputs": [
    {
     "name": "stdout",
     "output_type": "stream",
     "text": [
      "DataFrame r:\n"
     ]
    },
    {
     "data": {
      "text/html": [
       "<table border=\"1\" class=\"dataframe\">\n",
       "  <thead>\n",
       "    <tr style=\"text-align: right;\">\n",
       "      <th>𝐴</th>\n",
       "      <th>𝐵</th>\n",
       "    </tr>\n",
       "  </thead>\n",
       "  <tbody>\n",
       "    <tr>\n",
       "      <td>α</td>\n",
       "      <td>1</td>\n",
       "    </tr>\n",
       "    <tr>\n",
       "      <td>β</td>\n",
       "      <td>2</td>\n",
       "    </tr>\n",
       "  </tbody>\n",
       "</table>"
      ],
      "text/plain": [
       "<IPython.core.display.HTML object>"
      ]
     },
     "metadata": {},
     "output_type": "display_data"
    }
   ],
   "source": [
    "import pandas as pd\n",
    "from IPython.display import HTML\n",
    "\n",
    "# Relation r\n",
    "r = {\n",
    "    '𝐴': ['α', 'β'],\n",
    "    '𝐵': [1, 2]\n",
    "}\n",
    "\n",
    "# Create DataFrame for r\n",
    "df_r = pd.DataFrame(r)\n",
    "\n",
    "# Display the original DataFrame without the index\n",
    "print(\"DataFrame r:\")\n",
    "\n",
    "display(HTML(df_r.to_html(index=False)))"
   ]
  },
  {
   "cell_type": "markdown",
   "id": "244e4d30-e705-43fe-90d8-cdc64dcc1d1a",
   "metadata": {},
   "source": [
    "$r \\times \\rho_{s}(r)$"
   ]
  },
  {
   "cell_type": "code",
   "execution_count": 24,
   "id": "4e68bbe0-cb9b-4765-a072-50aac722c7e3",
   "metadata": {},
   "outputs": [
    {
     "name": "stdout",
     "output_type": "stream",
     "text": [
      "DataFrame s:\n"
     ]
    },
    {
     "data": {
      "text/html": [
       "<table border=\"1\" class=\"dataframe\">\n",
       "  <thead>\n",
       "    <tr style=\"text-align: right;\">\n",
       "      <th>𝐴</th>\n",
       "      <th>𝐵</th>\n",
       "    </tr>\n",
       "  </thead>\n",
       "  <tbody>\n",
       "    <tr>\n",
       "      <td>α</td>\n",
       "      <td>1</td>\n",
       "    </tr>\n",
       "    <tr>\n",
       "      <td>β</td>\n",
       "      <td>2</td>\n",
       "    </tr>\n",
       "  </tbody>\n",
       "</table>"
      ],
      "text/plain": [
       "<IPython.core.display.HTML object>"
      ]
     },
     "metadata": {},
     "output_type": "display_data"
    }
   ],
   "source": [
    "# Relation r's duplicate relation s\n",
    "df_s = pd.DataFrame(r)\n",
    "# Display the original DataFrame without the index\n",
    "print(\"DataFrame s:\")\n",
    "\n",
    "display(HTML(df_s.to_html(index=False)))"
   ]
  },
  {
   "cell_type": "code",
   "execution_count": 25,
   "id": "8e2388f9-bf80-42f2-89f3-1b0decaa04d0",
   "metadata": {},
   "outputs": [
    {
     "name": "stdout",
     "output_type": "stream",
     "text": [
      "Cartesian Product of r and s:\n"
     ]
    },
    {
     "data": {
      "text/html": [
       "<table border=\"1\" class=\"dataframe\">\n",
       "  <thead>\n",
       "    <tr style=\"text-align: right;\">\n",
       "      <th>r.𝐴</th>\n",
       "      <th>r.𝐵</th>\n",
       "      <th>s.𝐴</th>\n",
       "      <th>s.𝐵</th>\n",
       "    </tr>\n",
       "  </thead>\n",
       "  <tbody>\n",
       "    <tr>\n",
       "      <td>α</td>\n",
       "      <td>1</td>\n",
       "      <td>α</td>\n",
       "      <td>1</td>\n",
       "    </tr>\n",
       "    <tr>\n",
       "      <td>α</td>\n",
       "      <td>1</td>\n",
       "      <td>β</td>\n",
       "      <td>2</td>\n",
       "    </tr>\n",
       "    <tr>\n",
       "      <td>β</td>\n",
       "      <td>2</td>\n",
       "      <td>α</td>\n",
       "      <td>1</td>\n",
       "    </tr>\n",
       "    <tr>\n",
       "      <td>β</td>\n",
       "      <td>2</td>\n",
       "      <td>β</td>\n",
       "      <td>2</td>\n",
       "    </tr>\n",
       "  </tbody>\n",
       "</table>"
      ],
      "text/plain": [
       "<IPython.core.display.HTML object>"
      ]
     },
     "metadata": {},
     "output_type": "display_data"
    }
   ],
   "source": [
    "# Cartesian product of df_r and df_s\n",
    "cartesian_product_df = pd.merge(df_r.assign(key=1), df_s.assign(key=1), on='key').drop('key', axis=1)\n",
    "\n",
    "# Rename the columns to make them unique\n",
    "cartesian_product_df.columns = ['r.𝐴', 'r.𝐵', 's.𝐴','s.𝐵']\n",
    "\n",
    "# Display the Cartesian product DataFrame without the index\n",
    "print(\"Cartesian Product of r and s:\")\n",
    "display(HTML(cartesian_product_df.to_html(index=False)))"
   ]
  },
  {
   "cell_type": "markdown",
   "id": "e5a09e24-ab27-4620-aa9d-d0b6875f1cae",
   "metadata": {},
   "source": [
    "### Composition of Operations"
   ]
  },
  {
   "cell_type": "code",
   "execution_count": 26,
   "id": "0ed9927a-7bda-420d-9f12-9909ab73ff74",
   "metadata": {},
   "outputs": [
    {
     "name": "stdout",
     "output_type": "stream",
     "text": [
      "Cartesian Product of r and s:\n"
     ]
    },
    {
     "data": {
      "text/html": [
       "<table border=\"1\" class=\"dataframe\">\n",
       "  <thead>\n",
       "    <tr style=\"text-align: right;\">\n",
       "      <th>𝐴</th>\n",
       "      <th>𝐵</th>\n",
       "      <th>𝐶</th>\n",
       "      <th>𝐷</th>\n",
       "      <th>𝐸</th>\n",
       "    </tr>\n",
       "  </thead>\n",
       "  <tbody>\n",
       "    <tr>\n",
       "      <td>α</td>\n",
       "      <td>1</td>\n",
       "      <td>α</td>\n",
       "      <td>10</td>\n",
       "      <td>a</td>\n",
       "    </tr>\n",
       "    <tr>\n",
       "      <td>α</td>\n",
       "      <td>1</td>\n",
       "      <td>β</td>\n",
       "      <td>10</td>\n",
       "      <td>a</td>\n",
       "    </tr>\n",
       "    <tr>\n",
       "      <td>α</td>\n",
       "      <td>1</td>\n",
       "      <td>β</td>\n",
       "      <td>20</td>\n",
       "      <td>b</td>\n",
       "    </tr>\n",
       "    <tr>\n",
       "      <td>α</td>\n",
       "      <td>1</td>\n",
       "      <td>γ</td>\n",
       "      <td>10</td>\n",
       "      <td>b</td>\n",
       "    </tr>\n",
       "    <tr>\n",
       "      <td>β</td>\n",
       "      <td>2</td>\n",
       "      <td>α</td>\n",
       "      <td>10</td>\n",
       "      <td>a</td>\n",
       "    </tr>\n",
       "    <tr>\n",
       "      <td>β</td>\n",
       "      <td>2</td>\n",
       "      <td>β</td>\n",
       "      <td>10</td>\n",
       "      <td>a</td>\n",
       "    </tr>\n",
       "    <tr>\n",
       "      <td>β</td>\n",
       "      <td>2</td>\n",
       "      <td>β</td>\n",
       "      <td>20</td>\n",
       "      <td>b</td>\n",
       "    </tr>\n",
       "    <tr>\n",
       "      <td>β</td>\n",
       "      <td>2</td>\n",
       "      <td>γ</td>\n",
       "      <td>10</td>\n",
       "      <td>b</td>\n",
       "    </tr>\n",
       "  </tbody>\n",
       "</table>"
      ],
      "text/plain": [
       "<IPython.core.display.HTML object>"
      ]
     },
     "metadata": {},
     "output_type": "display_data"
    }
   ],
   "source": [
    "import pandas as pd\n",
    "from IPython.display import HTML\n",
    "\n",
    "# Relation r\n",
    "r = {\n",
    "    '𝐴': ['α', 'β'],\n",
    "    '𝐵': [1, 2]\n",
    "}\n",
    "\n",
    "# Create DataFrame for r\n",
    "df_r = pd.DataFrame(r)\n",
    "\n",
    "# Relation s\n",
    "s = {\n",
    "    '𝐶': ['α', 'β', 'β', 'γ'],\n",
    "    '𝐷': [10, 10, 20, 10],\n",
    "    '𝐸': ['a', 'a', 'b', 'b']\n",
    "}\n",
    "\n",
    "# Create DataFrame for s\n",
    "df_s = pd.DataFrame(s)\n",
    "\n",
    "# Cartesian product of df_r and df_s\n",
    "cartesian_product_df = pd.merge(df_r.assign(key=1), df_s.assign(key=1), on='key').drop('key', axis=1)\n",
    "\n",
    "# Display the Cartesian product DataFrame without the index\n",
    "print(\"Cartesian Product of r and s:\")\n",
    "display(HTML(cartesian_product_df.to_html(index=False)))"
   ]
  },
  {
   "cell_type": "markdown",
   "id": "56bdd603-8784-4ede-8deb-4a5dee8fb56d",
   "metadata": {},
   "source": [
    "$\\sigma_{A=C}(r \\times s)$"
   ]
  },
  {
   "cell_type": "code",
   "execution_count": 27,
   "id": "45770f3b-bfc8-4553-a740-cb37b1b0db34",
   "metadata": {},
   "outputs": [
    {
     "data": {
      "text/html": [
       "<table border=\"1\" class=\"dataframe\">\n",
       "  <thead>\n",
       "    <tr style=\"text-align: right;\">\n",
       "      <th>𝐴</th>\n",
       "      <th>𝐵</th>\n",
       "      <th>𝐶</th>\n",
       "      <th>𝐷</th>\n",
       "      <th>𝐸</th>\n",
       "    </tr>\n",
       "  </thead>\n",
       "  <tbody>\n",
       "    <tr>\n",
       "      <td>α</td>\n",
       "      <td>1</td>\n",
       "      <td>α</td>\n",
       "      <td>10</td>\n",
       "      <td>a</td>\n",
       "    </tr>\n",
       "    <tr>\n",
       "      <td>β</td>\n",
       "      <td>2</td>\n",
       "      <td>β</td>\n",
       "      <td>10</td>\n",
       "      <td>a</td>\n",
       "    </tr>\n",
       "    <tr>\n",
       "      <td>β</td>\n",
       "      <td>2</td>\n",
       "      <td>β</td>\n",
       "      <td>20</td>\n",
       "      <td>b</td>\n",
       "    </tr>\n",
       "  </tbody>\n",
       "</table>"
      ],
      "text/plain": [
       "<IPython.core.display.HTML object>"
      ]
     },
     "execution_count": 27,
     "metadata": {},
     "output_type": "execute_result"
    }
   ],
   "source": [
    "cp_df = cartesian_product_df\n",
    "\n",
    "# Selection operation: A = C\n",
    "ans = cp_df[(cp_df['𝐴'] == cp_df['𝐶'])]\n",
    "\n",
    "# Display the DataFrame without the index\n",
    "HTML(ans.to_html(index=False))"
   ]
  },
  {
   "cell_type": "markdown",
   "id": "883d4ce8-cd79-4c21-b531-95dde982694e",
   "metadata": {},
   "source": [
    "### Joining two relations - Natural Join\n",
    "\n",
    "- Let $r$ and $s$ be relations on schemas $R$ and $S$ respectively. Then, the \"**natural join**\" of relations $R$ and $S$ is a relation on schema $R \\cup S$ obtained as follows:\n",
    "  - Consider each pair of tuples $t_{r}$ from $r$ and $t_{s}$ from $s$\n",
    "  - If $t_{r}$ and $t_{s}$ have the same value on each of the attributes in $R \\cap S$, add a tuple $t$ to the result, where\n",
    "    - $t$ has the same value as $t_{r}$ on $r$\n",
    "    - $t$ has the same value as $t_{s}$ on $s$"
   ]
  },
  {
   "cell_type": "code",
   "execution_count": 28,
   "id": "5798eeca-6473-4c77-8e77-e95c606a91eb",
   "metadata": {},
   "outputs": [
    {
     "name": "stdout",
     "output_type": "stream",
     "text": [
      "DataFrame r:\n"
     ]
    },
    {
     "data": {
      "text/html": [
       "<table border=\"1\" class=\"dataframe\">\n",
       "  <thead>\n",
       "    <tr style=\"text-align: right;\">\n",
       "      <th>A</th>\n",
       "      <th>B</th>\n",
       "      <th>C</th>\n",
       "      <th>D</th>\n",
       "    </tr>\n",
       "  </thead>\n",
       "  <tbody>\n",
       "    <tr>\n",
       "      <td>α</td>\n",
       "      <td>1</td>\n",
       "      <td>α</td>\n",
       "      <td>a</td>\n",
       "    </tr>\n",
       "    <tr>\n",
       "      <td>β</td>\n",
       "      <td>2</td>\n",
       "      <td>γ</td>\n",
       "      <td>a</td>\n",
       "    </tr>\n",
       "    <tr>\n",
       "      <td>γ</td>\n",
       "      <td>4</td>\n",
       "      <td>β</td>\n",
       "      <td>b</td>\n",
       "    </tr>\n",
       "    <tr>\n",
       "      <td>α</td>\n",
       "      <td>1</td>\n",
       "      <td>γ</td>\n",
       "      <td>a</td>\n",
       "    </tr>\n",
       "    <tr>\n",
       "      <td>δ</td>\n",
       "      <td>2</td>\n",
       "      <td>β</td>\n",
       "      <td>b</td>\n",
       "    </tr>\n",
       "  </tbody>\n",
       "</table>"
      ],
      "text/plain": [
       "<IPython.core.display.HTML object>"
      ]
     },
     "metadata": {},
     "output_type": "display_data"
    },
    {
     "name": "stdout",
     "output_type": "stream",
     "text": [
      "DataFrame s:\n"
     ]
    },
    {
     "data": {
      "text/html": [
       "<table border=\"1\" class=\"dataframe\">\n",
       "  <thead>\n",
       "    <tr style=\"text-align: right;\">\n",
       "      <th>B</th>\n",
       "      <th>D</th>\n",
       "      <th>E</th>\n",
       "    </tr>\n",
       "  </thead>\n",
       "  <tbody>\n",
       "    <tr>\n",
       "      <td>1</td>\n",
       "      <td>a</td>\n",
       "      <td>α</td>\n",
       "    </tr>\n",
       "    <tr>\n",
       "      <td>3</td>\n",
       "      <td>a</td>\n",
       "      <td>β</td>\n",
       "    </tr>\n",
       "    <tr>\n",
       "      <td>1</td>\n",
       "      <td>a</td>\n",
       "      <td>γ</td>\n",
       "    </tr>\n",
       "    <tr>\n",
       "      <td>2</td>\n",
       "      <td>b</td>\n",
       "      <td>δ</td>\n",
       "    </tr>\n",
       "    <tr>\n",
       "      <td>3</td>\n",
       "      <td>b</td>\n",
       "      <td>ε</td>\n",
       "    </tr>\n",
       "  </tbody>\n",
       "</table>"
      ],
      "text/plain": [
       "<IPython.core.display.HTML object>"
      ]
     },
     "metadata": {},
     "output_type": "display_data"
    }
   ],
   "source": [
    "import pandas as pd\n",
    "from IPython.display import HTML\n",
    "\n",
    "# Relation r\n",
    "r = {\n",
    "    'A': ['α', 'β', 'γ', 'α', 'δ'],\n",
    "    'B': [1, 2, 4, 1, 2],\n",
    "    'C': ['α', 'γ', 'β', 'γ', 'β'],\n",
    "    'D': ['a', 'a', 'b', 'a', 'b']\n",
    "}\n",
    "\n",
    "# Create DataFrame for r\n",
    "df_r = pd.DataFrame(r)\n",
    "\n",
    "# Relation s\n",
    "s = {\n",
    "    'B': [1, 3, 1, 2, 3],\n",
    "    'D': ['a', 'a', 'a', 'b', 'b'],\n",
    "    'E': ['α', 'β', 'γ', 'δ', 'ε']\n",
    "}\n",
    "\n",
    "# Create DataFrame for s\n",
    "df_s = pd.DataFrame(s)\n",
    "\n",
    "# Display the original DataFrames without the index\n",
    "print(\"DataFrame r:\")\n",
    "display(HTML(df_r.to_html(index=False)))\n",
    "\n",
    "print(\"DataFrame s:\")\n",
    "display(HTML(df_s.to_html(index=False)))"
   ]
  },
  {
   "cell_type": "markdown",
   "id": "823c81d5-8ace-4dba-b1bd-1b8b59ca6ad6",
   "metadata": {},
   "source": [
    "### $r \\bowtie s$"
   ]
  },
  {
   "cell_type": "markdown",
   "id": "cdae7830-1aa7-4ab1-ba49-14a73b238463",
   "metadata": {},
   "source": [
    "### $\\pi_{A,r.B,C,r.D,E}(\\sigma_{r.B=s.B \\wedge r.D=s.D}(r \\times s))$"
   ]
  },
  {
   "cell_type": "code",
   "execution_count": 29,
   "id": "5d566758-18c1-452d-9799-6e6d7cbb4bec",
   "metadata": {},
   "outputs": [
    {
     "data": {
      "text/html": [
       "<table border=\"1\" class=\"dataframe\">\n",
       "  <thead>\n",
       "    <tr style=\"text-align: right;\">\n",
       "      <th>A</th>\n",
       "      <th>B</th>\n",
       "      <th>C</th>\n",
       "      <th>D</th>\n",
       "      <th>E</th>\n",
       "    </tr>\n",
       "  </thead>\n",
       "  <tbody>\n",
       "    <tr>\n",
       "      <td>α</td>\n",
       "      <td>1</td>\n",
       "      <td>α</td>\n",
       "      <td>a</td>\n",
       "      <td>α</td>\n",
       "    </tr>\n",
       "    <tr>\n",
       "      <td>α</td>\n",
       "      <td>1</td>\n",
       "      <td>γ</td>\n",
       "      <td>a</td>\n",
       "      <td>α</td>\n",
       "    </tr>\n",
       "    <tr>\n",
       "      <td>α</td>\n",
       "      <td>1</td>\n",
       "      <td>γ</td>\n",
       "      <td>a</td>\n",
       "      <td>γ</td>\n",
       "    </tr>\n",
       "    <tr>\n",
       "      <td>α</td>\n",
       "      <td>1</td>\n",
       "      <td>α</td>\n",
       "      <td>a</td>\n",
       "      <td>γ</td>\n",
       "    </tr>\n",
       "    <tr>\n",
       "      <td>δ</td>\n",
       "      <td>2</td>\n",
       "      <td>β</td>\n",
       "      <td>b</td>\n",
       "      <td>δ</td>\n",
       "    </tr>\n",
       "  </tbody>\n",
       "</table>"
      ],
      "text/plain": [
       "<IPython.core.display.HTML object>"
      ]
     },
     "execution_count": 29,
     "metadata": {},
     "output_type": "execute_result"
    }
   ],
   "source": [
    "# Natural join of df_r and df_s\n",
    "natural_join_df = pd.merge(df_r, df_s, on=['B', 'D'])\n",
    "\n",
    "# Display the result of the natural join\n",
    "HTML(natural_join_df.to_html(index=False))"
   ]
  },
  {
   "cell_type": "markdown",
   "id": "0cce3c49-2f1a-47ce-8b82-655be92cf4ce",
   "metadata": {},
   "source": [
    "### Aggregation Operators"
   ]
  },
  {
   "cell_type": "code",
   "execution_count": 30,
   "id": "5cc9bbb4-23e8-4c3e-9e27-fb10d21f22af",
   "metadata": {},
   "outputs": [
    {
     "name": "stdout",
     "output_type": "stream",
     "text": [
      "DataFrame r:\n"
     ]
    },
    {
     "data": {
      "text/html": [
       "<table border=\"1\" class=\"dataframe\">\n",
       "  <thead>\n",
       "    <tr style=\"text-align: right;\">\n",
       "      <th>A</th>\n",
       "      <th>B</th>\n",
       "    </tr>\n",
       "  </thead>\n",
       "  <tbody>\n",
       "    <tr>\n",
       "      <td>a</td>\n",
       "      <td>5</td>\n",
       "    </tr>\n",
       "    <tr>\n",
       "      <td>b</td>\n",
       "      <td>2</td>\n",
       "    </tr>\n",
       "    <tr>\n",
       "      <td>c</td>\n",
       "      <td>3</td>\n",
       "    </tr>\n",
       "  </tbody>\n",
       "</table>"
      ],
      "text/plain": [
       "<IPython.core.display.HTML object>"
      ]
     },
     "metadata": {},
     "output_type": "display_data"
    }
   ],
   "source": [
    "import pandas as pd\n",
    "from IPython.display import HTML\n",
    "\n",
    "# Relation r\n",
    "r = {\n",
    "    'A': ['a', 'b', 'c'],\n",
    "    'B': [5, 2, 3]\n",
    "}\n",
    "\n",
    "# Create DataFrame for r\n",
    "df_r = pd.DataFrame(r)\n",
    "\n",
    "# Display the original DataFrame without the index\n",
    "print(\"DataFrame r:\")\n",
    "\n",
    "display(HTML(df_r.to_html(index=False)))"
   ]
  },
  {
   "cell_type": "markdown",
   "id": "e02f4427-c822-4a60-bde3-f3427bc9fc05",
   "metadata": {},
   "source": [
    "### $\\text{SUM}_{B}(\\sigma_{B>2}(r))$"
   ]
  },
  {
   "cell_type": "code",
   "execution_count": 31,
   "id": "552d49d2-836f-4fd1-93b6-c791fdbc9d37",
   "metadata": {},
   "outputs": [
    {
     "name": "stdout",
     "output_type": "stream",
     "text": [
      "8\n"
     ]
    }
   ],
   "source": [
    "# Selection: B > 2\n",
    "selected_df = df_r[df_r['B'] > 2]\n",
    "\n",
    "# Aggregation: SUM(B)\n",
    "sum_B = selected_df['B'].sum()\n",
    "\n",
    "# Display the sum\n",
    "print(sum_B)"
   ]
  },
  {
   "cell_type": "markdown",
   "id": "5722a987-0f94-40d7-879b-6604dead0999",
   "metadata": {},
   "source": [
    "# AQ2.2"
   ]
  },
  {
   "attachments": {},
   "cell_type": "markdown",
   "id": "85225a02-a818-4ecb-8fb1-cf8cced53b82",
   "metadata": {},
   "source": [
    "## Question 2"
   ]
  },
  {
   "cell_type": "code",
   "execution_count": 32,
   "id": "39f48135-93f1-4884-81f5-a8321d26c35c",
   "metadata": {},
   "outputs": [
    {
     "name": "stdout",
     "output_type": "stream",
     "text": [
      "Relation r:\n"
     ]
    },
    {
     "data": {
      "text/html": [
       "<table border=\"1\" class=\"dataframe\">\n",
       "  <thead>\n",
       "    <tr style=\"text-align: right;\">\n",
       "      <th>A</th>\n",
       "      <th>B</th>\n",
       "      <th>C</th>\n",
       "      <th>D</th>\n",
       "    </tr>\n",
       "  </thead>\n",
       "  <tbody>\n",
       "    <tr>\n",
       "      <td>1</td>\n",
       "      <td>1</td>\n",
       "      <td>3</td>\n",
       "      <td>4</td>\n",
       "    </tr>\n",
       "    <tr>\n",
       "      <td>3</td>\n",
       "      <td>4</td>\n",
       "      <td>5</td>\n",
       "      <td>1</td>\n",
       "    </tr>\n",
       "    <tr>\n",
       "      <td>1</td>\n",
       "      <td>1</td>\n",
       "      <td>2</td>\n",
       "      <td>3</td>\n",
       "    </tr>\n",
       "    <tr>\n",
       "      <td>3</td>\n",
       "      <td>2</td>\n",
       "      <td>5</td>\n",
       "      <td>1</td>\n",
       "    </tr>\n",
       "  </tbody>\n",
       "</table>"
      ],
      "text/plain": [
       "<IPython.core.display.HTML object>"
      ]
     },
     "metadata": {},
     "output_type": "display_data"
    }
   ],
   "source": [
    "import pandas as pd\n",
    "from IPython.display import HTML\n",
    "\n",
    "r = {\n",
    "    'A':[1, 3, 1, 3],\n",
    "    'B':[1, 4, 1, 2],\n",
    "    'C':[3, 5, 2, 5],\n",
    "    'D':[4, 1, 3, 1]\n",
    "}\n",
    "\n",
    "# Create DataFrame for r\n",
    "df_r = pd.DataFrame(r)\n",
    "\n",
    "# Display the original DataFrame without the index\n",
    "print(\"Relation r:\")\n",
    "\n",
    "display(HTML(df_r.to_html(index=False)))"
   ]
  },
  {
   "cell_type": "markdown",
   "id": "a938011c-34d7-4fa7-8562-c3d825f7f42a",
   "metadata": {},
   "source": [
    "What will be the output of the following relational operation on r?\n",
    "### $ \\sigma_{\\neg(A=B\\vee C > 2)}(r) $"
   ]
  },
  {
   "cell_type": "markdown",
   "id": "e34228b5-98d5-4c53-8bb2-068add8bde99",
   "metadata": {},
   "source": [
    "## Solution\n",
    "\n",
    "To find the output of the relational operation $\\sigma_{\\neg(A=B \\vee C > 2)}(r)$ on the given relation $r$, we need to filter the rows of the DataFrame where the condition $\\neg(A=B \\vee C > 2)$ holds true.\n",
    "\n",
    "### Breaking Down the Condition\n",
    "\n",
    "- $ A = B $: This means the values in column `A` should be equal to the values in column `B`.\n",
    "- $ C > 2 $: This means the values in column `C` should be greater than 2.\n",
    "- $ A = B \\vee C > 2 $: This means either $ A = B $ or $ C > 2 $ (or both) should be true.\n",
    "- $ \\neg(A = B \\vee C > 2) $: This negates the previous condition, meaning neither $ A = B $ nor $ C > 2 $ should be true.\n",
    "\n",
    "\n",
    "### Explanation\n",
    "\n",
    "- **Step 1**: Create the DataFrame `df_r`.\n",
    "- **Step 2**: Apply the condition `~((df_r['A'] == df_r['B']) | (df_r['C'] > 2))`:\n",
    "  - `df_r['A'] == df_r['B']` creates a boolean series where each element is `True` if the corresponding elements in columns `A` and `B` are equal, and `False` otherwise.\n",
    "  - `df_r['C'] > 2` creates a boolean series where each element is `True` if the corresponding element in column `C` is greater than 2, and `False` otherwise.\n",
    "  - The `|` operator performs an element-wise OR operation between these two boolean series.\n",
    "  - The `~` operator negates the resulting boolean series.\n",
    "- **Step 3**: Filter the DataFrame using this boolean series to keep only the rows where the condition holds true.\n",
    "- **Step 4**: Display the resulting DataFrame.\n",
    "\n",
    "### Expected Output\n",
    "\n",
    "The output will be the rows of the DataFrame where neither `A = B` nor `C > 2` is true. Let's break it down for the given data:\n",
    "\n",
    "- For the first row (index 0): $ A = 1, B = 1, C = 3 $. Here, $ A = B $ is true and $ C > 2 $ is true.\n",
    "- For the second row (index 1): $ A = 3, B = 4, C = 5 $. Here, $ A = B $ is false but $ C > 2 $ is true.\n",
    "- For the third row (index 2): $ A = 1, B = 1, C = 2 $. Here, $ A = B $ is true but $ C > 2 $ is false.\n",
    "- For the fourth row (index 3): $ A = 3, B = 2, C = 5 $. Here, $ A = B $ is false but $ C > 2 $ is true.\n",
    "\n",
    "None of these rows satisfy the condition $ \\neg(A = B \\vee C > 2) $, so the resulting DataFrame will be empty."
   ]
  },
  {
   "cell_type": "code",
   "execution_count": 33,
   "id": "04825869-87b1-470b-a2ba-d8e32e36da13",
   "metadata": {},
   "outputs": [
    {
     "data": {
      "text/html": [
       "<table border=\"1\" class=\"dataframe\">\n",
       "  <thead>\n",
       "    <tr style=\"text-align: right;\">\n",
       "      <th>A</th>\n",
       "      <th>B</th>\n",
       "      <th>C</th>\n",
       "      <th>D</th>\n",
       "    </tr>\n",
       "  </thead>\n",
       "  <tbody>\n",
       "  </tbody>\n",
       "</table>"
      ],
      "text/plain": [
       "<IPython.core.display.HTML object>"
      ]
     },
     "metadata": {},
     "output_type": "display_data"
    }
   ],
   "source": [
    "# Relational operation: ¬(A=B ∨ C > 2)\n",
    "filtered_df = df_r[~((df_r['A'] == df_r['B']) | (df_r['C'] > 2))]\n",
    "\n",
    "# Display the filtered DataFrame without the index\n",
    "display(HTML(filtered_df.to_html(index=False)))"
   ]
  },
  {
   "cell_type": "markdown",
   "id": "0812e22c-5e34-445f-bde3-83c9bdafc714",
   "metadata": {},
   "source": [
    "## Question 3"
   ]
  },
  {
   "cell_type": "code",
   "execution_count": 34,
   "id": "5465c0d3-a7b7-4b27-86db-565fe96e7eeb",
   "metadata": {},
   "outputs": [
    {
     "name": "stdout",
     "output_type": "stream",
     "text": [
      "Relation r:\n"
     ]
    },
    {
     "data": {
      "text/html": [
       "<table border=\"1\" class=\"dataframe\">\n",
       "  <thead>\n",
       "    <tr style=\"text-align: right;\">\n",
       "      <th>A</th>\n",
       "      <th>B</th>\n",
       "      <th>C</th>\n",
       "      <th>D</th>\n",
       "    </tr>\n",
       "  </thead>\n",
       "  <tbody>\n",
       "    <tr>\n",
       "      <td>1</td>\n",
       "      <td>1</td>\n",
       "      <td>3</td>\n",
       "      <td>4</td>\n",
       "    </tr>\n",
       "    <tr>\n",
       "      <td>3</td>\n",
       "      <td>4</td>\n",
       "      <td>5</td>\n",
       "      <td>1</td>\n",
       "    </tr>\n",
       "    <tr>\n",
       "      <td>1</td>\n",
       "      <td>1</td>\n",
       "      <td>2</td>\n",
       "      <td>3</td>\n",
       "    </tr>\n",
       "    <tr>\n",
       "      <td>3</td>\n",
       "      <td>2</td>\n",
       "      <td>5</td>\n",
       "      <td>1</td>\n",
       "    </tr>\n",
       "  </tbody>\n",
       "</table>"
      ],
      "text/plain": [
       "<IPython.core.display.HTML object>"
      ]
     },
     "metadata": {},
     "output_type": "display_data"
    }
   ],
   "source": [
    "import pandas as pd\n",
    "from IPython.display import HTML\n",
    "\n",
    "r = {\n",
    "    'A':[1, 3, 1, 3],\n",
    "    'B':[1, 4, 1, 2],\n",
    "    'C':[3, 5, 2, 5],\n",
    "    'D':[4, 1, 3, 1]\n",
    "}\n",
    "\n",
    "# Create DataFrame for r\n",
    "df_r = pd.DataFrame(r)\n",
    "\n",
    "# Display the original DataFrame without the index\n",
    "print(\"Relation r:\")\n",
    "\n",
    "display(HTML(df_r.to_html(index=False)))"
   ]
  },
  {
   "cell_type": "markdown",
   "id": "c251e9c5-d902-42fa-a36a-35a60ea8bfa5",
   "metadata": {},
   "source": [
    "How many rows will be there in the output of the following relational operation on r?\n",
    "### $ \\pi_{A,D}(r) $"
   ]
  },
  {
   "cell_type": "code",
   "execution_count": 35,
   "id": "ab83a630-b4ee-44c4-af9c-68d39d964da5",
   "metadata": {},
   "outputs": [
    {
     "data": {
      "text/html": [
       "<table border=\"1\" class=\"dataframe\">\n",
       "  <thead>\n",
       "    <tr style=\"text-align: right;\">\n",
       "      <th>A</th>\n",
       "      <th>D</th>\n",
       "    </tr>\n",
       "  </thead>\n",
       "  <tbody>\n",
       "    <tr>\n",
       "      <td>1</td>\n",
       "      <td>4</td>\n",
       "    </tr>\n",
       "    <tr>\n",
       "      <td>3</td>\n",
       "      <td>1</td>\n",
       "    </tr>\n",
       "    <tr>\n",
       "      <td>1</td>\n",
       "      <td>3</td>\n",
       "    </tr>\n",
       "  </tbody>\n",
       "</table>"
      ],
      "text/plain": [
       "<IPython.core.display.HTML object>"
      ]
     },
     "execution_count": 35,
     "metadata": {},
     "output_type": "execute_result"
    }
   ],
   "source": [
    "# Projection: Select columns A and C\n",
    "ans = df_r[['A', 'D']].drop_duplicates()\n",
    "\n",
    "# Display the projected DataFrame with duplicates\n",
    "HTML(ans.to_html(index=False))"
   ]
  },
  {
   "cell_type": "markdown",
   "id": "414d6513-d41a-4a1c-8a95-73e66d0b0dcf",
   "metadata": {},
   "source": [
    "## Solution: 3"
   ]
  },
  {
   "cell_type": "markdown",
   "id": "13e3b927-cedf-40d8-914c-9815eb867fec",
   "metadata": {},
   "source": [
    "## Question 6"
   ]
  },
  {
   "cell_type": "code",
   "execution_count": 36,
   "id": "bc5c55c3-fa20-42af-83d9-d08969dbace9",
   "metadata": {},
   "outputs": [
    {
     "name": "stdout",
     "output_type": "stream",
     "text": [
      "DataFrame r:\n"
     ]
    },
    {
     "data": {
      "text/html": [
       "<table border=\"1\" class=\"dataframe\">\n",
       "  <thead>\n",
       "    <tr style=\"text-align: right;\">\n",
       "      <th>A</th>\n",
       "      <th>B</th>\n",
       "      <th>C</th>\n",
       "    </tr>\n",
       "  </thead>\n",
       "  <tbody>\n",
       "    <tr>\n",
       "      <td>0</td>\n",
       "      <td>9</td>\n",
       "      <td>0</td>\n",
       "    </tr>\n",
       "    <tr>\n",
       "      <td>2</td>\n",
       "      <td>2</td>\n",
       "      <td>2</td>\n",
       "    </tr>\n",
       "    <tr>\n",
       "      <td>1</td>\n",
       "      <td>1</td>\n",
       "      <td>1</td>\n",
       "    </tr>\n",
       "  </tbody>\n",
       "</table>"
      ],
      "text/plain": [
       "<IPython.core.display.HTML object>"
      ]
     },
     "metadata": {},
     "output_type": "display_data"
    },
    {
     "name": "stdout",
     "output_type": "stream",
     "text": [
      "DataFrame s:\n"
     ]
    },
    {
     "data": {
      "text/html": [
       "<table border=\"1\" class=\"dataframe\">\n",
       "  <thead>\n",
       "    <tr style=\"text-align: right;\">\n",
       "      <th>A</th>\n",
       "      <th>B</th>\n",
       "      <th>C</th>\n",
       "    </tr>\n",
       "  </thead>\n",
       "  <tbody>\n",
       "    <tr>\n",
       "      <td>0</td>\n",
       "      <td>Cat</td>\n",
       "      <td>0</td>\n",
       "    </tr>\n",
       "    <tr>\n",
       "      <td>2</td>\n",
       "      <td>Dog</td>\n",
       "      <td>2</td>\n",
       "    </tr>\n",
       "    <tr>\n",
       "      <td>1</td>\n",
       "      <td>Lion</td>\n",
       "      <td>1</td>\n",
       "    </tr>\n",
       "  </tbody>\n",
       "</table>"
      ],
      "text/plain": [
       "<IPython.core.display.HTML object>"
      ]
     },
     "metadata": {},
     "output_type": "display_data"
    }
   ],
   "source": [
    "import pandas as pd\n",
    "from IPython.display import HTML\n",
    "\n",
    "r = {\n",
    "    'A':[0, 2, 1],\n",
    "    'B':[9, 2, 1],\n",
    "    'C':[0, 2, 1]\n",
    "}\n",
    "\n",
    "# Create DataFrame for r\n",
    "df_r = pd.DataFrame(r)\n",
    "\n",
    "s = {\n",
    "    'A':[0, 2, 1],\n",
    "    'B':['Cat', 'Dog', 'Lion'],\n",
    "    'C':[0, 2, 1]\n",
    "}\n",
    "\n",
    "# Create DataFrame for s\n",
    "df_s = pd.DataFrame(s)\n",
    "\n",
    "\n",
    "# Display the original DataFrames without the index\n",
    "print(\"DataFrame r:\")\n",
    "display(HTML(df_r.to_html(index=False)))\n",
    "\n",
    "print(\"DataFrame s:\")\n",
    "display(HTML(df_s.to_html(index=False)))"
   ]
  },
  {
   "cell_type": "markdown",
   "id": "6bbd7c6a-6295-4edf-a859-3143d4905330",
   "metadata": {},
   "source": [
    "How many columns and rows will be there in the Cartesian product of the above two relations?"
   ]
  },
  {
   "cell_type": "markdown",
   "id": "8496be3e-e36b-4812-9e84-fba86e45b37b",
   "metadata": {},
   "source": [
    "## Solution"
   ]
  },
  {
   "cell_type": "code",
   "execution_count": 37,
   "id": "0584f8ac-82df-4f0e-8c40-07b37356bb92",
   "metadata": {},
   "outputs": [
    {
     "name": "stdout",
     "output_type": "stream",
     "text": [
      "Cartesian Product of r and s:\n"
     ]
    },
    {
     "data": {
      "text/html": [
       "<table border=\"1\" class=\"dataframe\">\n",
       "  <thead>\n",
       "    <tr style=\"text-align: right;\">\n",
       "      <th>r.A</th>\n",
       "      <th>r.B</th>\n",
       "      <th>r.C</th>\n",
       "      <th>s.A</th>\n",
       "      <th>s.B</th>\n",
       "      <th>s.C</th>\n",
       "    </tr>\n",
       "  </thead>\n",
       "  <tbody>\n",
       "    <tr>\n",
       "      <td>0</td>\n",
       "      <td>9</td>\n",
       "      <td>0</td>\n",
       "      <td>0</td>\n",
       "      <td>Cat</td>\n",
       "      <td>0</td>\n",
       "    </tr>\n",
       "    <tr>\n",
       "      <td>0</td>\n",
       "      <td>9</td>\n",
       "      <td>0</td>\n",
       "      <td>2</td>\n",
       "      <td>Dog</td>\n",
       "      <td>2</td>\n",
       "    </tr>\n",
       "    <tr>\n",
       "      <td>0</td>\n",
       "      <td>9</td>\n",
       "      <td>0</td>\n",
       "      <td>1</td>\n",
       "      <td>Lion</td>\n",
       "      <td>1</td>\n",
       "    </tr>\n",
       "    <tr>\n",
       "      <td>2</td>\n",
       "      <td>2</td>\n",
       "      <td>2</td>\n",
       "      <td>0</td>\n",
       "      <td>Cat</td>\n",
       "      <td>0</td>\n",
       "    </tr>\n",
       "    <tr>\n",
       "      <td>2</td>\n",
       "      <td>2</td>\n",
       "      <td>2</td>\n",
       "      <td>2</td>\n",
       "      <td>Dog</td>\n",
       "      <td>2</td>\n",
       "    </tr>\n",
       "    <tr>\n",
       "      <td>2</td>\n",
       "      <td>2</td>\n",
       "      <td>2</td>\n",
       "      <td>1</td>\n",
       "      <td>Lion</td>\n",
       "      <td>1</td>\n",
       "    </tr>\n",
       "    <tr>\n",
       "      <td>1</td>\n",
       "      <td>1</td>\n",
       "      <td>1</td>\n",
       "      <td>0</td>\n",
       "      <td>Cat</td>\n",
       "      <td>0</td>\n",
       "    </tr>\n",
       "    <tr>\n",
       "      <td>1</td>\n",
       "      <td>1</td>\n",
       "      <td>1</td>\n",
       "      <td>2</td>\n",
       "      <td>Dog</td>\n",
       "      <td>2</td>\n",
       "    </tr>\n",
       "    <tr>\n",
       "      <td>1</td>\n",
       "      <td>1</td>\n",
       "      <td>1</td>\n",
       "      <td>1</td>\n",
       "      <td>Lion</td>\n",
       "      <td>1</td>\n",
       "    </tr>\n",
       "  </tbody>\n",
       "</table>"
      ],
      "text/plain": [
       "<IPython.core.display.HTML object>"
      ]
     },
     "metadata": {},
     "output_type": "display_data"
    }
   ],
   "source": [
    "# Cartesian product of df_r and df_s\n",
    "cartesian_product_df = pd.merge(df_r.assign(key=1), df_s.assign(key=1), on='key').drop('key', axis=1)\n",
    "\n",
    "# Rename the columns to make them unique\n",
    "cartesian_product_df.columns = ['r.A', 'r.B', 'r.C', 's.A','s.B', 's.C']\n",
    "\n",
    "# Display the Cartesian product DataFrame without the index\n",
    "print(\"Cartesian Product of r and s:\")\n",
    "display(HTML(cartesian_product_df.to_html(index=False)))"
   ]
  },
  {
   "cell_type": "code",
   "execution_count": 38,
   "id": "5304f62d-faef-4f97-b706-2e5d5b110c65",
   "metadata": {},
   "outputs": [
    {
     "data": {
      "text/plain": [
       "(9, 6)"
      ]
     },
     "execution_count": 38,
     "metadata": {},
     "output_type": "execute_result"
    }
   ],
   "source": [
    "cartesian_product_df.shape"
   ]
  },
  {
   "cell_type": "markdown",
   "id": "a4f3210c-fe9c-4c88-bf66-22b3ba71af0a",
   "metadata": {},
   "source": [
    "9 rows and 6 columns."
   ]
  },
  {
   "cell_type": "markdown",
   "id": "16c90722-4a90-4746-b62b-f351c11b3750",
   "metadata": {},
   "source": [
    "## Question 8"
   ]
  },
  {
   "cell_type": "code",
   "execution_count": 39,
   "id": "c2a94962-cec7-48f4-ae47-4119ce49dd0f",
   "metadata": {},
   "outputs": [
    {
     "name": "stdout",
     "output_type": "stream",
     "text": [
      "DataFrame r:\n"
     ]
    },
    {
     "data": {
      "text/html": [
       "<table border=\"1\" class=\"dataframe\">\n",
       "  <thead>\n",
       "    <tr style=\"text-align: right;\">\n",
       "      <th>A</th>\n",
       "      <th>B</th>\n",
       "      <th>C</th>\n",
       "    </tr>\n",
       "  </thead>\n",
       "  <tbody>\n",
       "    <tr>\n",
       "      <td>a1</td>\n",
       "      <td>b1</td>\n",
       "      <td>c1</td>\n",
       "    </tr>\n",
       "    <tr>\n",
       "      <td>a2</td>\n",
       "      <td>b2</td>\n",
       "      <td>c1</td>\n",
       "    </tr>\n",
       "    <tr>\n",
       "      <td>a3</td>\n",
       "      <td>b1</td>\n",
       "      <td>c3</td>\n",
       "    </tr>\n",
       "    <tr>\n",
       "      <td>a1</td>\n",
       "      <td>b3</td>\n",
       "      <td>c2</td>\n",
       "    </tr>\n",
       "    <tr>\n",
       "      <td>a2</td>\n",
       "      <td>b4</td>\n",
       "      <td>c2</td>\n",
       "    </tr>\n",
       "    <tr>\n",
       "      <td>a4</td>\n",
       "      <td>b1</td>\n",
       "      <td>a3</td>\n",
       "    </tr>\n",
       "  </tbody>\n",
       "</table>"
      ],
      "text/plain": [
       "<IPython.core.display.HTML object>"
      ]
     },
     "metadata": {},
     "output_type": "display_data"
    },
    {
     "name": "stdout",
     "output_type": "stream",
     "text": [
      "DataFrame s:\n"
     ]
    },
    {
     "data": {
      "text/html": [
       "<table border=\"1\" class=\"dataframe\">\n",
       "  <thead>\n",
       "    <tr style=\"text-align: right;\">\n",
       "      <th>X</th>\n",
       "      <th>Y</th>\n",
       "      <th>A</th>\n",
       "      <th>C</th>\n",
       "    </tr>\n",
       "  </thead>\n",
       "  <tbody>\n",
       "    <tr>\n",
       "      <td>x1</td>\n",
       "      <td>y1</td>\n",
       "      <td>a1</td>\n",
       "      <td>c1</td>\n",
       "    </tr>\n",
       "    <tr>\n",
       "      <td>x2</td>\n",
       "      <td>y2</td>\n",
       "      <td>a1</td>\n",
       "      <td>c2</td>\n",
       "    </tr>\n",
       "    <tr>\n",
       "      <td>x3</td>\n",
       "      <td>y3</td>\n",
       "      <td>a2</td>\n",
       "      <td>c2</td>\n",
       "    </tr>\n",
       "    <tr>\n",
       "      <td>x3</td>\n",
       "      <td>y3</td>\n",
       "      <td>a3</td>\n",
       "      <td>c2</td>\n",
       "    </tr>\n",
       "    <tr>\n",
       "      <td>x1</td>\n",
       "      <td>y4</td>\n",
       "      <td>a3</td>\n",
       "      <td>c3</td>\n",
       "    </tr>\n",
       "  </tbody>\n",
       "</table>"
      ],
      "text/plain": [
       "<IPython.core.display.HTML object>"
      ]
     },
     "metadata": {},
     "output_type": "display_data"
    }
   ],
   "source": [
    "import pandas as pd\n",
    "from IPython.display import HTML\n",
    "\n",
    "r = {\n",
    "    'A':['a1', 'a2', 'a3', 'a1', 'a2', 'a4'],\n",
    "    'B':['b1', 'b2', 'b1', 'b3', 'b4', 'b1'],\n",
    "    'C':['c1', 'c1', 'c3', 'c2', 'c2', 'a3']\n",
    "}\n",
    "\n",
    "# Create DataFrame for r\n",
    "df_r = pd.DataFrame(r)\n",
    "\n",
    "s = {\n",
    "    'X': ['x1', 'x2', 'x3', 'x3', 'x1'],\n",
    "    'Y': ['y1', 'y2', 'y3', 'y3', 'y4'],\n",
    "    'A':['a1', 'a1', 'a2', 'a3', 'a3'],\n",
    "    'C':['c1', 'c2', 'c2', 'c2', 'c3']\n",
    "}\n",
    "\n",
    "# Create DataFrame for s\n",
    "df_s = pd.DataFrame(s)\n",
    "\n",
    "\n",
    "# Display the original DataFrames without the index\n",
    "print(\"DataFrame r:\")\n",
    "display(HTML(df_r.to_html(index=False)))\n",
    "\n",
    "print(\"DataFrame s:\")\n",
    "display(HTML(df_s.to_html(index=False)))"
   ]
  },
  {
   "cell_type": "markdown",
   "id": "5886a6ef-1bfb-4181-9b3b-6c681d84fec0",
   "metadata": {},
   "source": [
    "How many rows will be selected by relational operation $r \\bowtie s$"
   ]
  },
  {
   "cell_type": "markdown",
   "id": "76f78964-478f-4ed3-9c2d-24e0d0806eae",
   "metadata": {},
   "source": [
    "## Solution"
   ]
  },
  {
   "cell_type": "code",
   "execution_count": 40,
   "id": "07bc508b-3b81-4e87-9457-202c22431c1b",
   "metadata": {},
   "outputs": [
    {
     "name": "stdout",
     "output_type": "stream",
     "text": [
      "Natural Join of r and s:\n"
     ]
    },
    {
     "data": {
      "text/html": [
       "<table border=\"1\" class=\"dataframe\">\n",
       "  <thead>\n",
       "    <tr style=\"text-align: right;\">\n",
       "      <th>A</th>\n",
       "      <th>B</th>\n",
       "      <th>C</th>\n",
       "      <th>X</th>\n",
       "      <th>Y</th>\n",
       "    </tr>\n",
       "  </thead>\n",
       "  <tbody>\n",
       "    <tr>\n",
       "      <td>a1</td>\n",
       "      <td>b1</td>\n",
       "      <td>c1</td>\n",
       "      <td>x1</td>\n",
       "      <td>y1</td>\n",
       "    </tr>\n",
       "    <tr>\n",
       "      <td>a3</td>\n",
       "      <td>b1</td>\n",
       "      <td>c3</td>\n",
       "      <td>x1</td>\n",
       "      <td>y4</td>\n",
       "    </tr>\n",
       "    <tr>\n",
       "      <td>a1</td>\n",
       "      <td>b3</td>\n",
       "      <td>c2</td>\n",
       "      <td>x2</td>\n",
       "      <td>y2</td>\n",
       "    </tr>\n",
       "    <tr>\n",
       "      <td>a2</td>\n",
       "      <td>b4</td>\n",
       "      <td>c2</td>\n",
       "      <td>x3</td>\n",
       "      <td>y3</td>\n",
       "    </tr>\n",
       "  </tbody>\n",
       "</table>"
      ],
      "text/plain": [
       "<IPython.core.display.HTML object>"
      ]
     },
     "metadata": {},
     "output_type": "display_data"
    },
    {
     "name": "stdout",
     "output_type": "stream",
     "text": [
      "Number of rows selected by r ⨝ s: 4\n"
     ]
    }
   ],
   "source": [
    "# Natural join of df_r and df_s\n",
    "natural_join_df = pd.merge(df_r, df_s, on=['A', 'C'])\n",
    "\n",
    "# Display the result of the natural join\n",
    "print(\"Natural Join of r and s:\")\n",
    "display(HTML(natural_join_df.to_html(index=False)))\n",
    "\n",
    "# Count the number of rows in the resulting DataFrame\n",
    "num_rows = natural_join_df.shape[0]\n",
    "print(\"Number of rows selected by r ⨝ s:\", num_rows)"
   ]
  },
  {
   "cell_type": "code",
   "execution_count": null,
   "id": "f04b2fe2-32ba-48b7-9034-49e3196ca0f0",
   "metadata": {},
   "outputs": [],
   "source": []
  }
 ],
 "metadata": {
  "kernelspec": {
   "display_name": "Python 3 (ipykernel)",
   "language": "python",
   "name": "python3"
  },
  "language_info": {
   "codemirror_mode": {
    "name": "ipython",
    "version": 3
   },
   "file_extension": ".py",
   "mimetype": "text/x-python",
   "name": "python",
   "nbconvert_exporter": "python",
   "pygments_lexer": "ipython3",
   "version": "3.12.3"
  },
  "widgets": {
   "application/vnd.jupyter.widget-state+json": {
    "state": {},
    "version_major": 2,
    "version_minor": 0
   }
  }
 },
 "nbformat": 4,
 "nbformat_minor": 5
}
